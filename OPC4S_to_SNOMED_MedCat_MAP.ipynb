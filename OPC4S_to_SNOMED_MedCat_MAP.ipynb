{
 "cells": [
  {
   "cell_type": "markdown",
   "metadata": {},
   "source": [
    "# Import medcat and load model pack....\n",
    "\n",
    "### cat =..."
   ]
  },
  {
   "cell_type": "markdown",
   "metadata": {},
   "source": [
    "## import concept description files"
   ]
  },
  {
   "cell_type": "code",
   "execution_count": 3,
   "metadata": {},
   "outputs": [],
   "source": [
    "import pandas as pd\n",
    "from tqdm import tqdm"
   ]
  },
  {
   "cell_type": "code",
   "execution_count": null,
   "metadata": {},
   "outputs": [],
   "source": [
    "opc4s_map = pd.read_csv('../gloabl_files/vocab_folders/opc4/CONCEPT.csv', sep='\\t')\n",
    "\n",
    "opc4s_map = opc4s_map[opc4s_map['concept_code'] != 'OMOP generated']\n",
    "\n",
    "opc4s_map = opc4s_map[opc4s_map['domain_id']!='Metadata']\n",
    "\n",
    "opc4s_map"
   ]
  },
  {
   "cell_type": "markdown",
   "metadata": {},
   "source": [
    "#####  Call medCat get entities on concept names, sort by meta annotations and accuracy. Store all results. Store preffered result (sorted)"
   ]
  },
  {
   "cell_type": "code",
   "execution_count": null,
   "metadata": {},
   "outputs": [],
   "source": [
    "\n",
    "\n",
    "# Assuming you have the 'res' variable with the provided structure\n",
    "\n",
    "data = []\n",
    "\n",
    "code_list_name = list(opc4s_map['concept_name'])\n",
    "code_list_code = list(opc4s_map['concept_code'])\n",
    "\n",
    "for i in tqdm(range(0, len(code_list_name))):\n",
    "    res = pat2vec_obj.cat.get_entities(code_list_name[i])\n",
    "    \n",
    "    if 'entities' in res and len(res['entities']) > 0:\n",
    "        # Sort the annotations based on priority\n",
    "        sorted_annotations = sorted(res['entities'].values(), key=lambda x: (x['types'], x['meta_anns']['Subject/Experiencer']['value'] == 'Patient', -x['acc']), reverse=False)\n",
    "        \n",
    "        # Take the first annotation as per the priority\n",
    "        selected_annotation = sorted_annotations[0]\n",
    "        \n",
    "        # Create a dictionary for the row\n",
    "        row_data = {\n",
    "            'Code': code_list_name[i],\n",
    "            'Pretty_Name': selected_annotation['pretty_name'],\n",
    "            'CUI': selected_annotation['cui'],\n",
    "            'Type': selected_annotation['types'][0] if selected_annotation['types'] else None,\n",
    "            'Source_Value': selected_annotation['source_value'],\n",
    "            'Detected_Name': selected_annotation['detected_name'],\n",
    "            'Context_Similarity': selected_annotation['context_similarity'],\n",
    "            'Start': selected_annotation['start'],\n",
    "            'End': selected_annotation['end'],\n",
    "            'Time': selected_annotation['meta_anns']['Time']['value'],\n",
    "            'Presence': selected_annotation['meta_anns']['Presence']['value'],\n",
    "            'Subject_Experiencer': selected_annotation['meta_anns']['Subject/Experiencer']['value'],\n",
    "            'Acc': selected_annotation['acc'],\n",
    "            'Found_annotations' : sorted_annotations\n",
    "        }\n",
    "        \n",
    "        data.append(row_data)\n",
    "\n",
    "# Create a DataFrame from the list of dictionaries\n",
    "df = pd.DataFrame(data)\n",
    "\n",
    "# Display the DataFrame\n",
    "df\n",
    "\n"
   ]
  },
  {
   "cell_type": "code",
   "execution_count": null,
   "metadata": {},
   "outputs": [],
   "source": [
    "df.to_csv('../gloabl_files/medcat_ontology_maps/medcat_opc4s_map.csv')"
   ]
  }
 ],
 "metadata": {
  "kernelspec": {
   "display_name": "pat2vec_env",
   "language": "python",
   "name": "python3"
  },
  "language_info": {
   "codemirror_mode": {
    "name": "ipython",
    "version": 3
   },
   "file_extension": ".py",
   "mimetype": "text/x-python",
   "name": "python",
   "nbconvert_exporter": "python",
   "pygments_lexer": "ipython3",
   "version": "3.9.18"
  }
 },
 "nbformat": 4,
 "nbformat_minor": 2
}
