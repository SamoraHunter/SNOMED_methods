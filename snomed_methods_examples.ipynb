{
 "cells": [
  {
   "cell_type": "code",
   "execution_count": null,
   "metadata": {},
   "outputs": [],
   "source": [
    "from IPython.display import display, Markdown"
   ]
  },
  {
   "cell_type": "markdown",
   "metadata": {},
   "source": [
    "### SNOMED methods example"
   ]
  },
  {
   "cell_type": "code",
   "execution_count": 24,
   "metadata": {},
   "outputs": [
    {
     "data": {
      "text/markdown": [
       "\n",
       "## Begin\n",
       "\n",
       "Ensure the methods are on path\n"
      ],
      "text/plain": [
       "<IPython.core.display.Markdown object>"
      ]
     },
     "metadata": {},
     "output_type": "display_data"
    }
   ],
   "source": [
    "display(Markdown(\"\"\"\n",
    "## Begin\n",
    "\n",
    "Ensure the methods are on path\n",
    "\"\"\"))\n",
    "\n",
    "import os, sys\n",
    "sys.path.insert(0,'/home/aliencat/samora/gloabl_files')\n",
    "sys.path.insert(0,'/data/AS/Samora/gloabl_files')\n",
    "sys.path.insert(0,'/home/jovyan/work/gloabl_files')\n",
    "sys.path.insert(0, '/home/cogstack/samora/_data/gloabl_files')"
   ]
  },
  {
   "cell_type": "code",
   "execution_count": 26,
   "metadata": {},
   "outputs": [
    {
     "data": {
      "text/markdown": [
       "\n",
       "\n",
       "Import module\n",
       "\n"
      ],
      "text/plain": [
       "<IPython.core.display.Markdown object>"
      ]
     },
     "metadata": {},
     "output_type": "display_data"
    }
   ],
   "source": [
    "import snomed_methods_v1\n",
    "\n",
    "display(Markdown(\"\"\"\n",
    "\n",
    "Import module\n",
    "\n",
    "\"\"\"))"
   ]
  },
  {
   "cell_type": "markdown",
   "metadata": {},
   "source": [
    "Ensure the rf2 snomed files are in the folder specified in snomed_methods_v1.py\n",
    "\n",
    "Ensure medcat path is set if using medcat and your dev environment is set (defaults to dh-cap02)\n",
    "\n",
    "\n"
   ]
  },
  {
   "cell_type": "code",
   "execution_count": 27,
   "metadata": {},
   "outputs": [
    {
     "name": "stderr",
     "output_type": "stream",
     "text": [
      "/home/cogstack/samora/pat2vec_env/lib/python3.9/site-packages/spacy/util.py:910: UserWarning: [W095] Model 'en_core_web_md' (3.1.0) was trained with spaCy v3.1.0 and may not be 100% compatible with the current version (3.7.2). If you see errors or degraded performance, download a newer compatible model or retrain your custom model with the current spaCy version. For more details and available updates, run: python -m spacy validate\n",
      "  warnings.warn(warn_msg)\n"
     ]
    },
    {
     "data": {
      "text/markdown": [
       "\n",
       "\n",
       "Initialise the snomed methods object\n",
       "\n"
      ],
      "text/plain": [
       "<IPython.core.display.Markdown object>"
      ]
     },
     "metadata": {},
     "output_type": "display_data"
    }
   ],
   "source": [
    "snomed_relations_obj = snomed_methods_v1.snomed_relations(medcat=True)\n",
    "\n",
    "\n",
    "display(Markdown(\"\"\"\n",
    "\n",
    "Initialise the snomed methods object\n",
    "\n",
    "\"\"\"))"
   ]
  },
  {
   "cell_type": "code",
   "execution_count": 28,
   "metadata": {},
   "outputs": [
    {
     "data": {
      "text/markdown": [
       "\n",
       "\n",
       "Define your starting point SNOMED cui code.\n"
      ],
      "text/plain": [
       "<IPython.core.display.Markdown object>"
      ]
     },
     "metadata": {},
     "output_type": "display_data"
    },
    {
     "name": "stdout",
     "output_type": "stream",
     "text": [
      "399187006\n"
     ]
    }
   ],
   "source": [
    "display(Markdown(\"\"\"\n",
    "\n",
    "Define your starting point SNOMED cui code.\n",
    "\"\"\"))\n",
    "\n",
    "outcome_variable_cui_for_filter = '399187006'  # HFE\n",
    "\n",
    "print(outcome_variable_cui_for_filter)\n"
   ]
  },
  {
   "cell_type": "code",
   "execution_count": 11,
   "metadata": {},
   "outputs": [
    {
     "name": "stdout",
     "output_type": "stream",
     "text": [
      "399187006\n"
     ]
    }
   ],
   "source": [
    "filter_root_cui = outcome_variable_cui_for_filter\n",
    "print(filter_root_cui)"
   ]
  },
  {
   "cell_type": "markdown",
   "metadata": {},
   "source": [
    "#### Spreading from starting SNOMED code we have found more related codes in the SNOMED tree:"
   ]
  },
  {
   "cell_type": "code",
   "execution_count": 30,
   "metadata": {},
   "outputs": [
    {
     "name": "stdout",
     "output_type": "stream",
     "text": [
      "Retrieving 399187006 with recursion 10\n"
     ]
    },
    {
     "name": "stderr",
     "output_type": "stream",
     "text": [
      "100%|██████████| 10/10 [00:00<00:00, 11.38it/s]\n"
     ]
    },
    {
     "data": {
      "text/markdown": [
       "\n",
       "\n",
       "n_recursion is the number of cycles of searching for a codes parents and children, then appending them to a set and searching for each of these codes parent/children.\n",
       "Higher recursion, more exploration, more codes, higher odds of unrelated concepts being returned.\n",
       "\n"
      ],
      "text/plain": [
       "<IPython.core.display.Markdown object>"
      ]
     },
     "metadata": {},
     "output_type": "display_data"
    }
   ],
   "source": [
    "retrieved_codes_snomed_tree, retrieved_names_snomed_tree = snomed_relations_obj.recursive_code_expansion(filter_root_cui, n_recursion = 10, debug=False)\n",
    "\n",
    "display(Markdown(\"\"\"\n",
    "\n",
    "n_recursion is the number of cycles of searching for a codes parents and children, then appending them to a set and searching for each of these codes parent/children.\n",
    "Higher recursion, more exploration, more codes, higher odds of unrelated concepts being returned.\n",
    "\n",
    "\"\"\"))"
   ]
  },
  {
   "cell_type": "code",
   "execution_count": 7,
   "metadata": {},
   "outputs": [
    {
     "data": {
      "text/plain": [
       "([66576001, 6160004, 401119001, '399187006', 143101000119101], 21, 20)"
      ]
     },
     "execution_count": 7,
     "metadata": {},
     "output_type": "execute_result"
    }
   ],
   "source": [
    "retrieved_codes_snomed_tree[0:5], len(retrieved_codes_snomed_tree), len(retrieved_names_snomed_tree)"
   ]
  },
  {
   "cell_type": "code",
   "execution_count": 8,
   "metadata": {},
   "outputs": [
    {
     "data": {
      "text/plain": [
       "['Hypoparathyroidism due to hemochromatosis (disorder)',\n",
       " 'Juvenile hemochromatosis (disorder)',\n",
       " 'Idiopathic hemochromatosis (disorder)']"
      ]
     },
     "execution_count": 8,
     "metadata": {},
     "output_type": "execute_result"
    }
   ],
   "source": [
    "retrieved_names_snomed_tree[0:3]\n",
    "\n",
    "display(Markdown(\"\"\"\n",
    "\n",
    "Lets examine some of the identified codes names. \n",
    "\"\"\"))"
   ]
  },
  {
   "cell_type": "code",
   "execution_count": 9,
   "metadata": {},
   "outputs": [
    {
     "data": {
      "text/plain": [
       "[66576001, 6160004, 401119001]"
      ]
     },
     "execution_count": 9,
     "metadata": {},
     "output_type": "execute_result"
    }
   ],
   "source": [
    "retrieved_codes_snomed_tree[0:3]"
   ]
  },
  {
   "cell_type": "markdown",
   "metadata": {},
   "source": [
    "#### Lets try an additional method to find related codes.\n",
    "\n",
    "Here we will attempt to get related codes from medcats' concept databases context similarity. In other words, what concepts occurred in a similar context in the training data for our CDB. **This method may not work if the concept did not receive training in the inital base model. This is because the concept does not have a context vector(s)."
   ]
  },
  {
   "cell_type": "code",
   "execution_count": 31,
   "metadata": {},
   "outputs": [],
   "source": [
    "retrieved_codes_medcat_cdb, retrieved_names_medcat_cdb  = snomed_relations_obj.get_medcat_cdb_most_similar(filter_root_cui, context_type = 'xxxlong', type_id_filter=[], topn=50)"
   ]
  },
  {
   "cell_type": "code",
   "execution_count": 34,
   "metadata": {},
   "outputs": [
    {
     "data": {
      "text/plain": [
       "['Hemochromatosis (disorder)',\n",
       " 'Hereditary hemochromatosis (disorder)',\n",
       " 'Juvenile hemochromatosis (disorder)',\n",
       " 'Hereditary spherocytosis (disorder)',\n",
       " 'Spherocytosis (finding)']"
      ]
     },
     "execution_count": 34,
     "metadata": {},
     "output_type": "execute_result"
    }
   ],
   "source": [
    "retrieved_names_medcat_cdb[0:5]"
   ]
  },
  {
   "cell_type": "markdown",
   "metadata": {},
   "source": [
    "## An additional method \n",
    "\n"
   ]
  },
  {
   "cell_type": "markdown",
   "metadata": {},
   "source": [
    "In this method we will calculate an embedding for snomed terms with their name using a large language model (Gatortron OG) trained on clinical text. We will then calculate an embedding for our term of choice. /n\n",
    "With these embedding vectors we can measure their cosine similarty and return a list of similar embeddings. "
   ]
  },
  {
   "cell_type": "code",
   "execution_count": 37,
   "metadata": {},
   "outputs": [
    {
     "name": "stdout",
     "output_type": "stream",
     "text": [
      "7311327\n"
     ]
    }
   ],
   "source": [
    "import pickle\n",
    "\n",
    "\n",
    "\n",
    "# Load the dictionary back from the file\n",
    "with open('/home/cogstack/samora/_data/gloabl_files/gatortron/precomputed_sname_gatortron_base_embedding_dict.pkl', 'rb') as file:\n",
    "    loaded_dict = pickle.load(file)\n",
    "\n",
    "# Print the loaded dictionary\n",
    "print(len(loaded_dict.keys()))\n"
   ]
  },
  {
   "cell_type": "code",
   "execution_count": 40,
   "metadata": {},
   "outputs": [
    {
     "data": {
      "text/plain": [
       "['neoplasm~of~anterior~surface~of~epiglottis~diagnosis',\n",
       " 'neoplasm',\n",
       " 'neoplasm~of']"
      ]
     },
     "execution_count": 40,
     "metadata": {},
     "output_type": "execute_result"
    }
   ],
   "source": [
    "list(loaded_dict.keys())[0:3]"
   ]
  },
  {
   "cell_type": "code",
   "execution_count": 41,
   "metadata": {},
   "outputs": [
    {
     "data": {
      "text/plain": [
       "array([[ 0.13535264,  0.05197329, -0.02210324, ...,  0.01287067,\n",
       "        -0.5452818 , -0.14283289]], dtype=float32)"
      ]
     },
     "execution_count": 41,
     "metadata": {},
     "output_type": "execute_result"
    }
   ],
   "source": [
    "loaded_dict.get('hemochromatosis')"
   ]
  },
  {
   "cell_type": "code",
   "execution_count": 44,
   "metadata": {},
   "outputs": [
    {
     "ename": "ValueError",
     "evalue": "Found array with dim 3. check_pairwise_arrays expected <= 2.",
     "output_type": "error",
     "traceback": [
      "\u001b[0;31m---------------------------------------------------------------------------\u001b[0m",
      "\u001b[0;31mValueError\u001b[0m                                Traceback (most recent call last)",
      "\u001b[1;32m/home/cogstack/samora/_data/gloabl_files/snomed_methods_examples.ipynb Cell 22\u001b[0m line \u001b[0;36m4\n\u001b[1;32m     <a href='vscode-notebook-cell://ssh-remote%2Bdh-cap02/home/cogstack/samora/_data/gloabl_files/snomed_methods_examples.ipynb#X43sdnNjb2RlLXJlbW90ZQ%3D%3D?line=30'>31</a>\u001b[0m \u001b[39m# # Example usage:\u001b[39;00m\n\u001b[1;32m     <a href='vscode-notebook-cell://ssh-remote%2Bdh-cap02/home/cogstack/samora/_data/gloabl_files/snomed_methods_examples.ipynb#X43sdnNjb2RlLXJlbW90ZQ%3D%3D?line=31'>32</a>\u001b[0m \u001b[39m# term_vectors = {\u001b[39;00m\n\u001b[1;32m     <a href='vscode-notebook-cell://ssh-remote%2Bdh-cap02/home/cogstack/samora/_data/gloabl_files/snomed_methods_examples.ipynb#X43sdnNjb2RlLXJlbW90ZQ%3D%3D?line=32'>33</a>\u001b[0m \u001b[39m#     'hemochromatosis': np.array([0.1, 0.2, 0.3]),\u001b[39;00m\n\u001b[1;32m     <a href='vscode-notebook-cell://ssh-remote%2Bdh-cap02/home/cogstack/samora/_data/gloabl_files/snomed_methods_examples.ipynb#X43sdnNjb2RlLXJlbW90ZQ%3D%3D?line=33'>34</a>\u001b[0m \u001b[39m#     'term2': np.array([0.4, 0.5, 0.6]),\u001b[39;00m\n\u001b[1;32m     <a href='vscode-notebook-cell://ssh-remote%2Bdh-cap02/home/cogstack/samora/_data/gloabl_files/snomed_methods_examples.ipynb#X43sdnNjb2RlLXJlbW90ZQ%3D%3D?line=34'>35</a>\u001b[0m \u001b[39m#     # Add more terms and vectors as needed\u001b[39;00m\n\u001b[1;32m     <a href='vscode-notebook-cell://ssh-remote%2Bdh-cap02/home/cogstack/samora/_data/gloabl_files/snomed_methods_examples.ipynb#X43sdnNjb2RlLXJlbW90ZQ%3D%3D?line=35'>36</a>\u001b[0m \u001b[39m# }\u001b[39;00m\n\u001b[1;32m     <a href='vscode-notebook-cell://ssh-remote%2Bdh-cap02/home/cogstack/samora/_data/gloabl_files/snomed_methods_examples.ipynb#X43sdnNjb2RlLXJlbW90ZQ%3D%3D?line=39'>40</a>\u001b[0m target_vector \u001b[39m=\u001b[39m loaded_dict\u001b[39m.\u001b[39mget(\u001b[39m'\u001b[39m\u001b[39mhemochromatosis\u001b[39m\u001b[39m'\u001b[39m)\n\u001b[0;32m---> <a href='vscode-notebook-cell://ssh-remote%2Bdh-cap02/home/cogstack/samora/_data/gloabl_files/snomed_methods_examples.ipynb#X43sdnNjb2RlLXJlbW90ZQ%3D%3D?line=41'>42</a>\u001b[0m result \u001b[39m=\u001b[39m find_most_similar(target_vector, loaded_dict, n\u001b[39m=\u001b[39;49m\u001b[39m3\u001b[39;49m)\n\u001b[1;32m     <a href='vscode-notebook-cell://ssh-remote%2Bdh-cap02/home/cogstack/samora/_data/gloabl_files/snomed_methods_examples.ipynb#X43sdnNjb2RlLXJlbW90ZQ%3D%3D?line=43'>44</a>\u001b[0m \u001b[39m# Print the result\u001b[39;00m\n\u001b[1;32m     <a href='vscode-notebook-cell://ssh-remote%2Bdh-cap02/home/cogstack/samora/_data/gloabl_files/snomed_methods_examples.ipynb#X43sdnNjb2RlLXJlbW90ZQ%3D%3D?line=44'>45</a>\u001b[0m \u001b[39mfor\u001b[39;00m term, similarity_score \u001b[39min\u001b[39;00m result:\n",
      "\u001b[1;32m/home/cogstack/samora/_data/gloabl_files/snomed_methods_examples.ipynb Cell 22\u001b[0m line \u001b[0;36m2\n\u001b[1;32m     <a href='vscode-notebook-cell://ssh-remote%2Bdh-cap02/home/cogstack/samora/_data/gloabl_files/snomed_methods_examples.ipynb#X43sdnNjb2RlLXJlbW90ZQ%3D%3D?line=15'>16</a>\u001b[0m similarities \u001b[39m=\u001b[39m {}\n\u001b[1;32m     <a href='vscode-notebook-cell://ssh-remote%2Bdh-cap02/home/cogstack/samora/_data/gloabl_files/snomed_methods_examples.ipynb#X43sdnNjb2RlLXJlbW90ZQ%3D%3D?line=17'>18</a>\u001b[0m \u001b[39mfor\u001b[39;00m term, vector \u001b[39min\u001b[39;00m term_vectors\u001b[39m.\u001b[39mitems():\n\u001b[1;32m     <a href='vscode-notebook-cell://ssh-remote%2Bdh-cap02/home/cogstack/samora/_data/gloabl_files/snomed_methods_examples.ipynb#X43sdnNjb2RlLXJlbW90ZQ%3D%3D?line=18'>19</a>\u001b[0m     \u001b[39m# Calculate cosine similarity\u001b[39;00m\n\u001b[0;32m---> <a href='vscode-notebook-cell://ssh-remote%2Bdh-cap02/home/cogstack/samora/_data/gloabl_files/snomed_methods_examples.ipynb#X43sdnNjb2RlLXJlbW90ZQ%3D%3D?line=19'>20</a>\u001b[0m     similarity_score \u001b[39m=\u001b[39m cosine_similarity([target_vector], [vector])[\u001b[39m0\u001b[39m, \u001b[39m0\u001b[39m]\n\u001b[1;32m     <a href='vscode-notebook-cell://ssh-remote%2Bdh-cap02/home/cogstack/samora/_data/gloabl_files/snomed_methods_examples.ipynb#X43sdnNjb2RlLXJlbW90ZQ%3D%3D?line=20'>21</a>\u001b[0m     similarities[term] \u001b[39m=\u001b[39m similarity_score\n\u001b[1;32m     <a href='vscode-notebook-cell://ssh-remote%2Bdh-cap02/home/cogstack/samora/_data/gloabl_files/snomed_methods_examples.ipynb#X43sdnNjb2RlLXJlbW90ZQ%3D%3D?line=22'>23</a>\u001b[0m \u001b[39m# Sort terms by similarity in descending order\u001b[39;00m\n",
      "File \u001b[0;32m~/samora/pat2vec_env/lib/python3.9/site-packages/sklearn/utils/_param_validation.py:214\u001b[0m, in \u001b[0;36mvalidate_params.<locals>.decorator.<locals>.wrapper\u001b[0;34m(*args, **kwargs)\u001b[0m\n\u001b[1;32m    208\u001b[0m \u001b[39mtry\u001b[39;00m:\n\u001b[1;32m    209\u001b[0m     \u001b[39mwith\u001b[39;00m config_context(\n\u001b[1;32m    210\u001b[0m         skip_parameter_validation\u001b[39m=\u001b[39m(\n\u001b[1;32m    211\u001b[0m             prefer_skip_nested_validation \u001b[39mor\u001b[39;00m global_skip_validation\n\u001b[1;32m    212\u001b[0m         )\n\u001b[1;32m    213\u001b[0m     ):\n\u001b[0;32m--> 214\u001b[0m         \u001b[39mreturn\u001b[39;00m func(\u001b[39m*\u001b[39;49margs, \u001b[39m*\u001b[39;49m\u001b[39m*\u001b[39;49mkwargs)\n\u001b[1;32m    215\u001b[0m \u001b[39mexcept\u001b[39;00m InvalidParameterError \u001b[39mas\u001b[39;00m e:\n\u001b[1;32m    216\u001b[0m     \u001b[39m# When the function is just a wrapper around an estimator, we allow\u001b[39;00m\n\u001b[1;32m    217\u001b[0m     \u001b[39m# the function to delegate validation to the estimator, but we replace\u001b[39;00m\n\u001b[1;32m    218\u001b[0m     \u001b[39m# the name of the estimator by the name of the function in the error\u001b[39;00m\n\u001b[1;32m    219\u001b[0m     \u001b[39m# message to avoid confusion.\u001b[39;00m\n\u001b[1;32m    220\u001b[0m     msg \u001b[39m=\u001b[39m re\u001b[39m.\u001b[39msub(\n\u001b[1;32m    221\u001b[0m         \u001b[39mr\u001b[39m\u001b[39m\"\u001b[39m\u001b[39mparameter of \u001b[39m\u001b[39m\\\u001b[39m\u001b[39mw+ must be\u001b[39m\u001b[39m\"\u001b[39m,\n\u001b[1;32m    222\u001b[0m         \u001b[39mf\u001b[39m\u001b[39m\"\u001b[39m\u001b[39mparameter of \u001b[39m\u001b[39m{\u001b[39;00mfunc\u001b[39m.\u001b[39m\u001b[39m__qualname__\u001b[39m\u001b[39m}\u001b[39;00m\u001b[39m must be\u001b[39m\u001b[39m\"\u001b[39m,\n\u001b[1;32m    223\u001b[0m         \u001b[39mstr\u001b[39m(e),\n\u001b[1;32m    224\u001b[0m     )\n",
      "File \u001b[0;32m~/samora/pat2vec_env/lib/python3.9/site-packages/sklearn/metrics/pairwise.py:1578\u001b[0m, in \u001b[0;36mcosine_similarity\u001b[0;34m(X, Y, dense_output)\u001b[0m\n\u001b[1;32m   1543\u001b[0m \u001b[39m\u001b[39m\u001b[39m\"\"\"Compute cosine similarity between samples in X and Y.\u001b[39;00m\n\u001b[1;32m   1544\u001b[0m \n\u001b[1;32m   1545\u001b[0m \u001b[39mCosine similarity, or the cosine kernel, computes similarity as the\u001b[39;00m\n\u001b[0;32m   (...)\u001b[0m\n\u001b[1;32m   1574\u001b[0m \u001b[39m    Returns the cosine similarity between samples in X and Y.\u001b[39;00m\n\u001b[1;32m   1575\u001b[0m \u001b[39m\"\"\"\u001b[39;00m\n\u001b[1;32m   1576\u001b[0m \u001b[39m# to avoid recursive import\u001b[39;00m\n\u001b[0;32m-> 1578\u001b[0m X, Y \u001b[39m=\u001b[39m check_pairwise_arrays(X, Y)\n\u001b[1;32m   1580\u001b[0m X_normalized \u001b[39m=\u001b[39m normalize(X, copy\u001b[39m=\u001b[39m\u001b[39mTrue\u001b[39;00m)\n\u001b[1;32m   1581\u001b[0m \u001b[39mif\u001b[39;00m X \u001b[39mis\u001b[39;00m Y:\n",
      "File \u001b[0;32m~/samora/pat2vec_env/lib/python3.9/site-packages/sklearn/metrics/pairwise.py:165\u001b[0m, in \u001b[0;36mcheck_pairwise_arrays\u001b[0;34m(X, Y, precomputed, dtype, accept_sparse, force_all_finite, copy)\u001b[0m\n\u001b[1;32m    156\u001b[0m     X \u001b[39m=\u001b[39m Y \u001b[39m=\u001b[39m check_array(\n\u001b[1;32m    157\u001b[0m         X,\n\u001b[1;32m    158\u001b[0m         accept_sparse\u001b[39m=\u001b[39maccept_sparse,\n\u001b[0;32m   (...)\u001b[0m\n\u001b[1;32m    162\u001b[0m         estimator\u001b[39m=\u001b[39mestimator,\n\u001b[1;32m    163\u001b[0m     )\n\u001b[1;32m    164\u001b[0m \u001b[39melse\u001b[39;00m:\n\u001b[0;32m--> 165\u001b[0m     X \u001b[39m=\u001b[39m check_array(\n\u001b[1;32m    166\u001b[0m         X,\n\u001b[1;32m    167\u001b[0m         accept_sparse\u001b[39m=\u001b[39;49maccept_sparse,\n\u001b[1;32m    168\u001b[0m         dtype\u001b[39m=\u001b[39;49mdtype,\n\u001b[1;32m    169\u001b[0m         copy\u001b[39m=\u001b[39;49mcopy,\n\u001b[1;32m    170\u001b[0m         force_all_finite\u001b[39m=\u001b[39;49mforce_all_finite,\n\u001b[1;32m    171\u001b[0m         estimator\u001b[39m=\u001b[39;49mestimator,\n\u001b[1;32m    172\u001b[0m     )\n\u001b[1;32m    173\u001b[0m     Y \u001b[39m=\u001b[39m check_array(\n\u001b[1;32m    174\u001b[0m         Y,\n\u001b[1;32m    175\u001b[0m         accept_sparse\u001b[39m=\u001b[39maccept_sparse,\n\u001b[0;32m   (...)\u001b[0m\n\u001b[1;32m    179\u001b[0m         estimator\u001b[39m=\u001b[39mestimator,\n\u001b[1;32m    180\u001b[0m     )\n\u001b[1;32m    182\u001b[0m \u001b[39mif\u001b[39;00m precomputed:\n",
      "File \u001b[0;32m~/samora/pat2vec_env/lib/python3.9/site-packages/sklearn/utils/validation.py:951\u001b[0m, in \u001b[0;36mcheck_array\u001b[0;34m(array, accept_sparse, accept_large_sparse, dtype, order, copy, force_all_finite, ensure_2d, allow_nd, ensure_min_samples, ensure_min_features, estimator, input_name)\u001b[0m\n\u001b[1;32m    946\u001b[0m     \u001b[39mraise\u001b[39;00m \u001b[39mValueError\u001b[39;00m(\n\u001b[1;32m    947\u001b[0m         \u001b[39m\"\u001b[39m\u001b[39mdtype=\u001b[39m\u001b[39m'\u001b[39m\u001b[39mnumeric\u001b[39m\u001b[39m'\u001b[39m\u001b[39m is not compatible with arrays of bytes/strings.\u001b[39m\u001b[39m\"\u001b[39m\n\u001b[1;32m    948\u001b[0m         \u001b[39m\"\u001b[39m\u001b[39mConvert your data to numeric values explicitly instead.\u001b[39m\u001b[39m\"\u001b[39m\n\u001b[1;32m    949\u001b[0m     )\n\u001b[1;32m    950\u001b[0m \u001b[39mif\u001b[39;00m \u001b[39mnot\u001b[39;00m allow_nd \u001b[39mand\u001b[39;00m array\u001b[39m.\u001b[39mndim \u001b[39m>\u001b[39m\u001b[39m=\u001b[39m \u001b[39m3\u001b[39m:\n\u001b[0;32m--> 951\u001b[0m     \u001b[39mraise\u001b[39;00m \u001b[39mValueError\u001b[39;00m(\n\u001b[1;32m    952\u001b[0m         \u001b[39m\"\u001b[39m\u001b[39mFound array with dim \u001b[39m\u001b[39m%d\u001b[39;00m\u001b[39m. \u001b[39m\u001b[39m%s\u001b[39;00m\u001b[39m expected <= 2.\u001b[39m\u001b[39m\"\u001b[39m\n\u001b[1;32m    953\u001b[0m         \u001b[39m%\u001b[39m (array\u001b[39m.\u001b[39mndim, estimator_name)\n\u001b[1;32m    954\u001b[0m     )\n\u001b[1;32m    956\u001b[0m \u001b[39mif\u001b[39;00m force_all_finite:\n\u001b[1;32m    957\u001b[0m     _assert_all_finite(\n\u001b[1;32m    958\u001b[0m         array,\n\u001b[1;32m    959\u001b[0m         input_name\u001b[39m=\u001b[39minput_name,\n\u001b[1;32m    960\u001b[0m         estimator_name\u001b[39m=\u001b[39mestimator_name,\n\u001b[1;32m    961\u001b[0m         allow_nan\u001b[39m=\u001b[39mforce_all_finite \u001b[39m==\u001b[39m \u001b[39m\"\u001b[39m\u001b[39mallow-nan\u001b[39m\u001b[39m\"\u001b[39m,\n\u001b[1;32m    962\u001b[0m     )\n",
      "\u001b[0;31mValueError\u001b[0m: Found array with dim 3. check_pairwise_arrays expected <= 2."
     ]
    }
   ],
   "source": [
    "import numpy as np\n",
    "from sklearn.metrics.pairwise import cosine_similarity\n",
    "\n",
    "def find_most_similar(target_vector, term_vectors, n=5):\n",
    "    \"\"\"\n",
    "    Find the n most similar vectors to the target_vector from the given term_vectors.\n",
    "\n",
    "    Parameters:\n",
    "    - target_vector: The vector for which similarity is to be calculated.\n",
    "    - term_vectors: A dictionary of term vectors.\n",
    "    - n: The number of most similar vectors to retrieve (default is 5).\n",
    "\n",
    "    Returns:\n",
    "    - A list of tuples, each containing (term, similarity_score), sorted by similarity_score in descending order.\n",
    "    \"\"\"\n",
    "    similarities = {}\n",
    "    \n",
    "    for term, vector in term_vectors.items():\n",
    "        # Calculate cosine similarity\n",
    "        similarity_score = cosine_similarity([target_vector], [vector])[0, 0]\n",
    "        similarities[term] = similarity_score\n",
    "    \n",
    "    # Sort terms by similarity in descending order\n",
    "    sorted_terms = sorted(similarities.items(), key=lambda x: x[1], reverse=True)\n",
    "    \n",
    "    # Return the top n most similar vectors with their terms\n",
    "    top_n_similarities = sorted_terms[:n]\n",
    "    \n",
    "    return top_n_similarities\n",
    "\n",
    "# # Example usage:\n",
    "# term_vectors = {\n",
    "#     'hemochromatosis': np.array([0.1, 0.2, 0.3]),\n",
    "#     'term2': np.array([0.4, 0.5, 0.6]),\n",
    "#     # Add more terms and vectors as needed\n",
    "# }\n",
    "\n",
    "\n",
    "\n",
    "target_vector = loaded_dict.get('hemochromatosis')\n",
    "\n",
    "result = find_most_similar(target_vector, loaded_dict, n=3)\n",
    "\n",
    "# Print the result\n",
    "for term, similarity_score in result:\n",
    "    print(f'Term: {term}, Similarity Score: {similarity_score}')\n",
    "\n",
    "# The result will be a list of tuples, each containing the term and its similarity score to the target_vector.\n"
   ]
  },
  {
   "cell_type": "code",
   "execution_count": 46,
   "metadata": {},
   "outputs": [
    {
     "name": "stderr",
     "output_type": "stream",
     "text": [
      "  1%|          | 90303/7311327 [00:38<51:45, 2325.45it/s]"
     ]
    }
   ],
   "source": [
    "import numpy as np\n",
    "from sklearn.metrics.pairwise import cosine_similarity\n",
    "from tqdm import tqdm\n",
    "\n",
    "def find_most_similar(target_vector, term_vectors, n=5):\n",
    "    \"\"\"\n",
    "    Find the n most similar vectors to the target_vector from the given term_vectors.\n",
    "\n",
    "    Parameters:\n",
    "    - target_vector: The vector for which similarity is to be calculated.\n",
    "    - term_vectors: A dictionary of term vectors.\n",
    "    - n: The number of most similar vectors to retrieve (default is 5).\n",
    "\n",
    "    Returns:\n",
    "    - A list of tuples, each containing (term, similarity_score), sorted by similarity_score in descending order.\n",
    "    \"\"\"\n",
    "    similarities = {}\n",
    "    \n",
    "    # Reshape target_vector to 2D array\n",
    "    target_vector = target_vector.reshape(1, -1)\n",
    "    \n",
    "    for term, vector in tqdm(term_vectors.items()):\n",
    "        # Reshape vector to 2D array\n",
    "        vector = vector.reshape(1, -1)\n",
    "        \n",
    "        # Calculate cosine similarity\n",
    "        similarity_score = cosine_similarity(target_vector, vector)[0, 0]\n",
    "        similarities[term] = similarity_score\n",
    "    \n",
    "    # Sort terms by similarity in descending order\n",
    "    sorted_terms = sorted(similarities.items(), key=lambda x: x[1], reverse=True)\n",
    "    \n",
    "    # Return the top n most similar vectors with their terms\n",
    "    top_n_similarities = sorted_terms[:n]\n",
    "    \n",
    "    return top_n_similarities\n",
    "\n",
    "# Example usage:\n",
    "# Assuming loaded_dict is a dictionary of term vectors\n",
    "# loaded_dict = {'term1': np.array([[0.1, 0.2, 0.3]]), 'term2': np.array([[0.4, 0.5, 0.6]])}\n",
    "\n",
    "target_vector = loaded_dict.get('hemochromatosis')\n",
    "result = find_most_similar(target_vector, loaded_dict, n=3)\n",
    "\n",
    "# Print the result\n",
    "for term, similarity_score in result:\n",
    "    print(f'Term: {term}, Similarity Score: {similarity_score}')\n"
   ]
  },
  {
   "cell_type": "code",
   "execution_count": null,
   "metadata": {},
   "outputs": [],
   "source": []
  }
 ],
 "metadata": {
  "kernelspec": {
   "display_name": "pat2vec_env",
   "language": "python",
   "name": "pat2vec_env"
  },
  "language_info": {
   "codemirror_mode": {
    "name": "ipython",
    "version": 3
   },
   "file_extension": ".py",
   "mimetype": "text/x-python",
   "name": "python",
   "nbconvert_exporter": "python",
   "pygments_lexer": "ipython3",
   "version": "3.9.18"
  }
 },
 "nbformat": 4,
 "nbformat_minor": 2
}
