{
 "cells": [
  {
   "cell_type": "code",
   "execution_count": 1,
   "metadata": {},
   "outputs": [],
   "source": [
    "from IPython.display import display, Markdown\n",
    "import pandas as pd"
   ]
  },
  {
   "cell_type": "markdown",
   "metadata": {},
   "source": [
    "### SNOMED methods example"
   ]
  },
  {
   "cell_type": "code",
   "execution_count": 2,
   "metadata": {},
   "outputs": [
    {
     "data": {
      "text/markdown": [
       "\n",
       "## Begin\n",
       "\n",
       "Ensure the methods are on path\n"
      ],
      "text/plain": [
       "<IPython.core.display.Markdown object>"
      ]
     },
     "metadata": {},
     "output_type": "display_data"
    }
   ],
   "source": [
    "display(Markdown(\"\"\"\n",
    "## Begin\n",
    "\n",
    "Ensure the methods are on path\n",
    "\"\"\"))\n",
    "\n",
    "import os, sys\n",
    "sys.path.insert(0,'/home/aliencat/samora/gloabl_files')\n",
    "sys.path.insert(0,'/data/AS/Samora/gloabl_files')\n",
    "sys.path.insert(0,'/home/jovyan/work/gloabl_files')\n",
    "sys.path.insert(0, '/home/cogstack/samora/_data/gloabl_files')"
   ]
  },
  {
   "cell_type": "code",
   "execution_count": 3,
   "metadata": {},
   "outputs": [
    {
     "data": {
      "text/markdown": [
       "\n",
       "\n",
       "Import module\n",
       "\n"
      ],
      "text/plain": [
       "<IPython.core.display.Markdown object>"
      ]
     },
     "metadata": {},
     "output_type": "display_data"
    }
   ],
   "source": [
    "from snomed_methods import snomed_methods_v1\n",
    "\n",
    "display(Markdown(\"\"\"\n",
    "\n",
    "Import module\n",
    "\n",
    "\"\"\"))"
   ]
  },
  {
   "cell_type": "markdown",
   "metadata": {},
   "source": [
    "Ensure the rf2 snomed files are in the folder specified in snomed_methods_v1.py\n",
    "\n",
    "Ensure medcat path is set if using medcat and your dev environment is set (defaults to dh-cap02)\n",
    "\n",
    "\n"
   ]
  },
  {
   "cell_type": "code",
   "execution_count": 4,
   "metadata": {},
   "outputs": [
    {
     "name": "stderr",
     "output_type": "stream",
     "text": [
      "/home/cogstack/samora/pat2vec_env/lib/python3.9/site-packages/medcat/cat.py:18: TqdmExperimentalWarning: Using `tqdm.autonotebook.tqdm` in notebook mode. Use `tqdm.tqdm` instead to force console mode (e.g. in jupyter console)\n",
      "  from tqdm.autonotebook import tqdm, trange\n",
      "/home/cogstack/samora/pat2vec_env/lib/python3.9/site-packages/spacy/util.py:910: UserWarning: [W095] Model 'en_core_web_md' (3.1.0) was trained with spaCy v3.1.0 and may not be 100% compatible with the current version (3.7.2). If you see errors or degraded performance, download a newer compatible model or retrain your custom model with the current spaCy version. For more details and available updates, run: python -m spacy validate\n",
      "  warnings.warn(warn_msg)\n"
     ]
    },
    {
     "data": {
      "text/markdown": [
       "\n",
       "\n",
       "Initialise the snomed methods object\n",
       "\n"
      ],
      "text/plain": [
       "<IPython.core.display.Markdown object>"
      ]
     },
     "metadata": {},
     "output_type": "display_data"
    }
   ],
   "source": [
    "snomed_relations_obj = snomed_methods_v1.snomed_relations(medcat=True)\n",
    "\n",
    "\n",
    "display(Markdown(\"\"\"\n",
    "\n",
    "Initialise the snomed methods object\n",
    "\n",
    "\"\"\"))"
   ]
  },
  {
   "cell_type": "code",
   "execution_count": 5,
   "metadata": {},
   "outputs": [
    {
     "data": {
      "text/markdown": [
       "\n",
       "\n",
       "Define your starting point SNOMED cui code.\n"
      ],
      "text/plain": [
       "<IPython.core.display.Markdown object>"
      ]
     },
     "metadata": {},
     "output_type": "display_data"
    },
    {
     "name": "stdout",
     "output_type": "stream",
     "text": [
      "399187006\n"
     ]
    }
   ],
   "source": [
    "display(Markdown(\"\"\"\n",
    "\n",
    "Define your starting point SNOMED cui code.\n",
    "\"\"\"))\n",
    "\n",
    "outcome_variable_cui_for_filter = '399187006'  # HFE\n",
    "\n",
    "print(outcome_variable_cui_for_filter)\n"
   ]
  },
  {
   "cell_type": "code",
   "execution_count": 6,
   "metadata": {},
   "outputs": [
    {
     "name": "stdout",
     "output_type": "stream",
     "text": [
      "399187006\n"
     ]
    }
   ],
   "source": [
    "filter_root_cui = outcome_variable_cui_for_filter\n",
    "print(filter_root_cui)"
   ]
  },
  {
   "cell_type": "markdown",
   "metadata": {},
   "source": [
    "#### Spreading from starting SNOMED code we have found more related codes in the SNOMED tree:"
   ]
  },
  {
   "cell_type": "code",
   "execution_count": 7,
   "metadata": {},
   "outputs": [
    {
     "name": "stdout",
     "output_type": "stream",
     "text": [
      "Retrieving 399187006 with recursion 10\n"
     ]
    },
    {
     "name": "stderr",
     "output_type": "stream",
     "text": [
      "100%|██████████| 10/10 [00:00<00:00, 11.74it/s]\n"
     ]
    },
    {
     "data": {
      "text/markdown": [
       "\n",
       "\n",
       "n_recursion is the number of cycles of searching for a codes parents and children, then appending them to a set and searching for each of these codes parent/children.\n",
       "Higher recursion, more exploration, more codes, higher odds of unrelated concepts being returned.\n",
       "\n"
      ],
      "text/plain": [
       "<IPython.core.display.Markdown object>"
      ]
     },
     "metadata": {},
     "output_type": "display_data"
    }
   ],
   "source": [
    "retrieved_codes_snomed_tree, retrieved_names_snomed_tree = snomed_relations_obj.recursive_code_expansion(filter_root_cui, n_recursion = 10, debug=False)\n",
    "\n",
    "display(Markdown(\"\"\"\n",
    "\n",
    "n_recursion is the number of cycles of searching for a codes parents and children, then appending them to a set and searching for each of these codes parent/children.\n",
    "Higher recursion, more exploration, more codes, higher odds of unrelated concepts being returned.\n",
    "\n",
    "\"\"\"))"
   ]
  },
  {
   "cell_type": "code",
   "execution_count": 8,
   "metadata": {},
   "outputs": [
    {
     "data": {
      "text/plain": [
       "([66576001, 6160004, 401119001, 143101000119101, 399187006], 21, 20)"
      ]
     },
     "execution_count": 8,
     "metadata": {},
     "output_type": "execute_result"
    }
   ],
   "source": [
    "retrieved_codes_snomed_tree[0:5], len(retrieved_codes_snomed_tree), len(retrieved_names_snomed_tree)"
   ]
  },
  {
   "cell_type": "code",
   "execution_count": 9,
   "metadata": {},
   "outputs": [
    {
     "data": {
      "text/markdown": [
       "\n",
       "\n",
       "Lets examine some of the identified codes names. \n"
      ],
      "text/plain": [
       "<IPython.core.display.Markdown object>"
      ]
     },
     "metadata": {},
     "output_type": "display_data"
    }
   ],
   "source": [
    "retrieved_names_snomed_tree[0:3]\n",
    "\n",
    "display(Markdown(\"\"\"\n",
    "\n",
    "Lets examine some of the identified codes names. \n",
    "\"\"\"))"
   ]
  },
  {
   "cell_type": "code",
   "execution_count": 10,
   "metadata": {},
   "outputs": [
    {
     "data": {
      "text/plain": [
       "[66576001, 6160004, 401119001]"
      ]
     },
     "execution_count": 10,
     "metadata": {},
     "output_type": "execute_result"
    }
   ],
   "source": [
    "retrieved_codes_snomed_tree[0:3]"
   ]
  },
  {
   "cell_type": "markdown",
   "metadata": {},
   "source": [
    "#### Lets try an additional method to find related codes.\n",
    "\n",
    "Here we will attempt to get related codes from medcats' concept databases context similarity. In other words, what concepts occurred in a similar context in the training data for our CDB. **This method may not work if the concept did not receive training in the inital base model. This is because the concept does not have a context vector(s)."
   ]
  },
  {
   "cell_type": "code",
   "execution_count": 11,
   "metadata": {},
   "outputs": [],
   "source": [
    "retrieved_codes_medcat_cdb, retrieved_names_medcat_cdb  = snomed_relations_obj.get_medcat_cdb_most_similar(filter_root_cui, context_type = 'xxxlong', type_id_filter=[], topn=50)"
   ]
  },
  {
   "cell_type": "code",
   "execution_count": 12,
   "metadata": {},
   "outputs": [
    {
     "data": {
      "text/plain": [
       "['Hemochromatosis (disorder)',\n",
       " 'Hereditary hemochromatosis (disorder)',\n",
       " 'Juvenile hemochromatosis (disorder)',\n",
       " 'Hereditary spherocytosis (disorder)',\n",
       " 'Spherocytosis (finding)']"
      ]
     },
     "execution_count": 12,
     "metadata": {},
     "output_type": "execute_result"
    }
   ],
   "source": [
    "retrieved_names_medcat_cdb[0:5]"
   ]
  },
  {
   "cell_type": "code",
   "execution_count": null,
   "metadata": {},
   "outputs": [],
   "source": []
  },
  {
   "cell_type": "markdown",
   "metadata": {},
   "source": [
    "## Produce outputs in batches:"
   ]
  },
  {
   "cell_type": "code",
   "execution_count": 13,
   "metadata": {},
   "outputs": [
    {
     "name": "stdout",
     "output_type": "stream",
     "text": [
      "String representation: ['700065003', '471885006', '890122001', '890119003', '871638006', '890121008', '871649000', '890120009', '472316006', '45227007', '195020003', '83978005', '63183009', '1204194004', '428163005', '840303004', '840304005', '840305006', '880052005', '735686002', '95281009', '26636000']\n",
      "Integer list representation: [700065003, 471885006, 890122001, 890119003, 871638006, 890121008, 871649000, 890120009, 472316006, 45227007, 195020003, 83978005, 63183009, 1204194004, 428163005, 840303004, 840304005, 840305006, 880052005, 735686002, 95281009, 26636000]\n"
     ]
    },
    {
     "data": {
      "text/plain": [
       "'700065003'"
      ]
     },
     "execution_count": 13,
     "metadata": {},
     "output_type": "execute_result"
    }
   ],
   "source": [
    "ronnie_code_list = [\n",
    "    700065003, 471885006, 890122001, 890119003, 871638006,\n",
    "    890121008, 871649000, 890120009, 472316006, 45227007,\n",
    "    195020003, 83978005, 63183009, 1204194004, 428163005,\n",
    "    840303004, 840304005, 840305006, 880052005, 735686002,\n",
    "    95281009, 26636000\n",
    "]\n",
    "\n",
    "# Convert the list to a comma-separated string\n",
    "ronnie_code_str = ','.join(map(str, ronnie_code_list)).split(\",\")\n",
    "\n",
    "# Create a new list with integers\n",
    "ronnie_code_int = list(map(int, ronnie_code_list))\n",
    "\n",
    "print(\"String representation:\", ronnie_code_str)\n",
    "print(\"Integer list representation:\", ronnie_code_int)\n",
    "\n",
    "target_code = ronnie_code_str[0]\n",
    "target_code\n"
   ]
  },
  {
   "cell_type": "code",
   "execution_count": 14,
   "metadata": {},
   "outputs": [
    {
     "name": "stdout",
     "output_type": "stream",
     "text": [
      "Retrieving 700065003 with recursion 20\n"
     ]
    },
    {
     "name": "stderr",
     "output_type": "stream",
     "text": [
      "100%|██████████| 20/20 [00:00<00:00, 52.00it/s]\n",
      "/tmp/ipykernel_1186079/1351823142.py:14: FutureWarning: The frame.append method is deprecated and will be removed from pandas in a future version. Use pandas.concat instead.\n",
      "  df = df.append({'filter_root_cui': filter_root_cui,\n"
     ]
    },
    {
     "name": "stdout",
     "output_type": "stream",
     "text": [
      "Retrieving 471885006 with recursion 20\n"
     ]
    },
    {
     "name": "stderr",
     "output_type": "stream",
     "text": [
      "100%|██████████| 20/20 [00:00<00:00, 111.04it/s]\n",
      "/tmp/ipykernel_1186079/1351823142.py:14: FutureWarning: The frame.append method is deprecated and will be removed from pandas in a future version. Use pandas.concat instead.\n",
      "  df = df.append({'filter_root_cui': filter_root_cui,\n"
     ]
    },
    {
     "name": "stdout",
     "output_type": "stream",
     "text": [
      "Retrieving 890122001 with recursion 20\n"
     ]
    },
    {
     "name": "stderr",
     "output_type": "stream",
     "text": [
      "100%|██████████| 20/20 [00:00<00:00, 242.61it/s]\n",
      "/tmp/ipykernel_1186079/1351823142.py:14: FutureWarning: The frame.append method is deprecated and will be removed from pandas in a future version. Use pandas.concat instead.\n",
      "  df = df.append({'filter_root_cui': filter_root_cui,\n"
     ]
    },
    {
     "name": "stdout",
     "output_type": "stream",
     "text": [
      "Retrieving 890119003 with recursion 20\n"
     ]
    },
    {
     "name": "stderr",
     "output_type": "stream",
     "text": [
      "100%|██████████| 20/20 [00:00<00:00, 260.40it/s]\n",
      "/tmp/ipykernel_1186079/1351823142.py:14: FutureWarning: The frame.append method is deprecated and will be removed from pandas in a future version. Use pandas.concat instead.\n",
      "  df = df.append({'filter_root_cui': filter_root_cui,\n"
     ]
    },
    {
     "name": "stdout",
     "output_type": "stream",
     "text": [
      "Retrieving 871638006 with recursion 20\n"
     ]
    },
    {
     "name": "stderr",
     "output_type": "stream",
     "text": [
      "100%|██████████| 20/20 [00:00<00:00, 265.21it/s]\n",
      "/tmp/ipykernel_1186079/1351823142.py:14: FutureWarning: The frame.append method is deprecated and will be removed from pandas in a future version. Use pandas.concat instead.\n",
      "  df = df.append({'filter_root_cui': filter_root_cui,\n"
     ]
    },
    {
     "name": "stdout",
     "output_type": "stream",
     "text": [
      "Retrieving 890121008 with recursion 20\n"
     ]
    },
    {
     "name": "stderr",
     "output_type": "stream",
     "text": [
      "100%|██████████| 20/20 [00:00<00:00, 263.52it/s]\n",
      "/tmp/ipykernel_1186079/1351823142.py:14: FutureWarning: The frame.append method is deprecated and will be removed from pandas in a future version. Use pandas.concat instead.\n",
      "  df = df.append({'filter_root_cui': filter_root_cui,\n"
     ]
    },
    {
     "name": "stdout",
     "output_type": "stream",
     "text": [
      "Retrieving 871649000 with recursion 20\n"
     ]
    },
    {
     "name": "stderr",
     "output_type": "stream",
     "text": [
      "100%|██████████| 20/20 [00:00<00:00, 264.34it/s]\n",
      "/tmp/ipykernel_1186079/1351823142.py:14: FutureWarning: The frame.append method is deprecated and will be removed from pandas in a future version. Use pandas.concat instead.\n",
      "  df = df.append({'filter_root_cui': filter_root_cui,\n"
     ]
    },
    {
     "name": "stdout",
     "output_type": "stream",
     "text": [
      "Retrieving 890120009 with recursion 20\n"
     ]
    },
    {
     "name": "stderr",
     "output_type": "stream",
     "text": [
      "100%|██████████| 20/20 [00:00<00:00, 265.55it/s]\n",
      "/tmp/ipykernel_1186079/1351823142.py:14: FutureWarning: The frame.append method is deprecated and will be removed from pandas in a future version. Use pandas.concat instead.\n",
      "  df = df.append({'filter_root_cui': filter_root_cui,\n"
     ]
    },
    {
     "name": "stdout",
     "output_type": "stream",
     "text": [
      "Retrieving 472316006 with recursion 20\n"
     ]
    },
    {
     "name": "stderr",
     "output_type": "stream",
     "text": [
      "100%|██████████| 20/20 [00:00<00:00, 71.33it/s]\n",
      "/tmp/ipykernel_1186079/1351823142.py:14: FutureWarning: The frame.append method is deprecated and will be removed from pandas in a future version. Use pandas.concat instead.\n",
      "  df = df.append({'filter_root_cui': filter_root_cui,\n"
     ]
    },
    {
     "name": "stdout",
     "output_type": "stream",
     "text": [
      "Retrieving 45227007 with recursion 20\n"
     ]
    },
    {
     "name": "stderr",
     "output_type": "stream",
     "text": [
      "100%|██████████| 20/20 [00:00<00:00, 55.85it/s]\n",
      "/tmp/ipykernel_1186079/1351823142.py:14: FutureWarning: The frame.append method is deprecated and will be removed from pandas in a future version. Use pandas.concat instead.\n",
      "  df = df.append({'filter_root_cui': filter_root_cui,\n"
     ]
    },
    {
     "name": "stdout",
     "output_type": "stream",
     "text": [
      "Retrieving 195020003 with recursion 20\n"
     ]
    },
    {
     "name": "stderr",
     "output_type": "stream",
     "text": [
      "100%|██████████| 20/20 [00:00<00:00, 118.84it/s]\n",
      "/tmp/ipykernel_1186079/1351823142.py:14: FutureWarning: The frame.append method is deprecated and will be removed from pandas in a future version. Use pandas.concat instead.\n",
      "  df = df.append({'filter_root_cui': filter_root_cui,\n"
     ]
    },
    {
     "name": "stdout",
     "output_type": "stream",
     "text": [
      "Retrieving 83978005 with recursion 20\n"
     ]
    },
    {
     "name": "stderr",
     "output_type": "stream",
     "text": [
      "100%|██████████| 20/20 [00:00<00:00, 117.42it/s]\n",
      "/tmp/ipykernel_1186079/1351823142.py:14: FutureWarning: The frame.append method is deprecated and will be removed from pandas in a future version. Use pandas.concat instead.\n",
      "  df = df.append({'filter_root_cui': filter_root_cui,\n"
     ]
    },
    {
     "name": "stdout",
     "output_type": "stream",
     "text": [
      "Retrieving 63183009 with recursion 20\n"
     ]
    },
    {
     "name": "stderr",
     "output_type": "stream",
     "text": [
      "100%|██████████| 20/20 [00:00<00:00, 119.03it/s]\n",
      "/tmp/ipykernel_1186079/1351823142.py:14: FutureWarning: The frame.append method is deprecated and will be removed from pandas in a future version. Use pandas.concat instead.\n",
      "  df = df.append({'filter_root_cui': filter_root_cui,\n"
     ]
    },
    {
     "name": "stdout",
     "output_type": "stream",
     "text": [
      "Retrieving 1204194004 with recursion 20\n"
     ]
    },
    {
     "name": "stderr",
     "output_type": "stream",
     "text": [
      "100%|██████████| 20/20 [00:00<00:00, 266.88it/s]\n",
      "/tmp/ipykernel_1186079/1351823142.py:14: FutureWarning: The frame.append method is deprecated and will be removed from pandas in a future version. Use pandas.concat instead.\n",
      "  df = df.append({'filter_root_cui': filter_root_cui,\n"
     ]
    },
    {
     "name": "stdout",
     "output_type": "stream",
     "text": [
      "Retrieving 428163005 with recursion 20\n"
     ]
    },
    {
     "name": "stderr",
     "output_type": "stream",
     "text": [
      "100%|██████████| 20/20 [00:00<00:00, 119.55it/s]\n",
      "/tmp/ipykernel_1186079/1351823142.py:14: FutureWarning: The frame.append method is deprecated and will be removed from pandas in a future version. Use pandas.concat instead.\n",
      "  df = df.append({'filter_root_cui': filter_root_cui,\n"
     ]
    },
    {
     "name": "stdout",
     "output_type": "stream",
     "text": [
      "Retrieving 840303004 with recursion 20\n"
     ]
    },
    {
     "name": "stderr",
     "output_type": "stream",
     "text": [
      "100%|██████████| 20/20 [00:00<00:00, 264.83it/s]\n",
      "/tmp/ipykernel_1186079/1351823142.py:14: FutureWarning: The frame.append method is deprecated and will be removed from pandas in a future version. Use pandas.concat instead.\n",
      "  df = df.append({'filter_root_cui': filter_root_cui,\n"
     ]
    },
    {
     "name": "stdout",
     "output_type": "stream",
     "text": [
      "Retrieving 840304005 with recursion 20\n"
     ]
    },
    {
     "name": "stderr",
     "output_type": "stream",
     "text": [
      "100%|██████████| 20/20 [00:00<00:00, 268.13it/s]\n",
      "/tmp/ipykernel_1186079/1351823142.py:14: FutureWarning: The frame.append method is deprecated and will be removed from pandas in a future version. Use pandas.concat instead.\n",
      "  df = df.append({'filter_root_cui': filter_root_cui,\n"
     ]
    },
    {
     "name": "stdout",
     "output_type": "stream",
     "text": [
      "Retrieving 840305006 with recursion 20\n"
     ]
    },
    {
     "name": "stderr",
     "output_type": "stream",
     "text": [
      "100%|██████████| 20/20 [00:00<00:00, 268.28it/s]\n",
      "/tmp/ipykernel_1186079/1351823142.py:14: FutureWarning: The frame.append method is deprecated and will be removed from pandas in a future version. Use pandas.concat instead.\n",
      "  df = df.append({'filter_root_cui': filter_root_cui,\n"
     ]
    },
    {
     "name": "stdout",
     "output_type": "stream",
     "text": [
      "Retrieving 880052005 with recursion 20\n"
     ]
    },
    {
     "name": "stderr",
     "output_type": "stream",
     "text": [
      "100%|██████████| 20/20 [00:00<00:00, 264.73it/s]\n",
      "/tmp/ipykernel_1186079/1351823142.py:14: FutureWarning: The frame.append method is deprecated and will be removed from pandas in a future version. Use pandas.concat instead.\n",
      "  df = df.append({'filter_root_cui': filter_root_cui,\n"
     ]
    },
    {
     "name": "stdout",
     "output_type": "stream",
     "text": [
      "Retrieving 735686002 with recursion 20\n"
     ]
    },
    {
     "name": "stderr",
     "output_type": "stream",
     "text": [
      "100%|██████████| 20/20 [00:00<00:00, 119.52it/s]\n",
      "/tmp/ipykernel_1186079/1351823142.py:14: FutureWarning: The frame.append method is deprecated and will be removed from pandas in a future version. Use pandas.concat instead.\n",
      "  df = df.append({'filter_root_cui': filter_root_cui,\n"
     ]
    },
    {
     "name": "stdout",
     "output_type": "stream",
     "text": [
      "Retrieving 95281009 with recursion 20\n"
     ]
    },
    {
     "name": "stderr",
     "output_type": "stream",
     "text": [
      "100%|██████████| 20/20 [00:00<00:00, 56.94it/s]\n",
      "/tmp/ipykernel_1186079/1351823142.py:14: FutureWarning: The frame.append method is deprecated and will be removed from pandas in a future version. Use pandas.concat instead.\n",
      "  df = df.append({'filter_root_cui': filter_root_cui,\n"
     ]
    },
    {
     "name": "stdout",
     "output_type": "stream",
     "text": [
      "Retrieving 26636000 with recursion 20\n"
     ]
    },
    {
     "name": "stderr",
     "output_type": "stream",
     "text": [
      "100%|██████████| 20/20 [00:01<00:00, 13.12it/s]\n",
      "/tmp/ipykernel_1186079/1351823142.py:14: FutureWarning: The frame.append method is deprecated and will be removed from pandas in a future version. Use pandas.concat instead.\n",
      "  df = df.append({'filter_root_cui': filter_root_cui,\n"
     ]
    },
    {
     "data": {
      "text/html": [
       "<div>\n",
       "<style scoped>\n",
       "    .dataframe tbody tr th:only-of-type {\n",
       "        vertical-align: middle;\n",
       "    }\n",
       "\n",
       "    .dataframe tbody tr th {\n",
       "        vertical-align: top;\n",
       "    }\n",
       "\n",
       "    .dataframe thead th {\n",
       "        text-align: right;\n",
       "    }\n",
       "</style>\n",
       "<table border=\"1\" class=\"dataframe\">\n",
       "  <thead>\n",
       "    <tr style=\"text-align: right;\">\n",
       "      <th></th>\n",
       "      <th>filter_root_cui</th>\n",
       "      <th>retrieved_codes</th>\n",
       "      <th>retrieved_names</th>\n",
       "      <th>retrieved_codes_count</th>\n",
       "    </tr>\n",
       "  </thead>\n",
       "  <tbody>\n",
       "    <tr>\n",
       "      <th>0</th>\n",
       "      <td>700065003</td>\n",
       "      <td>[63183009, 700065003, 83978005, 700065003]</td>\n",
       "      <td>[Primary hypertrophic cardiomyopathy (disorder...</td>\n",
       "      <td>4</td>\n",
       "    </tr>\n",
       "    <tr>\n",
       "      <th>1</th>\n",
       "      <td>471885006</td>\n",
       "      <td>[471885006, 471885006]</td>\n",
       "      <td>[Hypertrophic cardiomyopathy with genetic mark...</td>\n",
       "      <td>2</td>\n",
       "    </tr>\n",
       "    <tr>\n",
       "      <th>2</th>\n",
       "      <td>890122001</td>\n",
       "      <td>[890122001]</td>\n",
       "      <td>[]</td>\n",
       "      <td>1</td>\n",
       "    </tr>\n",
       "    <tr>\n",
       "      <th>3</th>\n",
       "      <td>890119003</td>\n",
       "      <td>[890119003]</td>\n",
       "      <td>[]</td>\n",
       "      <td>1</td>\n",
       "    </tr>\n",
       "    <tr>\n",
       "      <th>4</th>\n",
       "      <td>871638006</td>\n",
       "      <td>[871638006]</td>\n",
       "      <td>[]</td>\n",
       "      <td>1</td>\n",
       "    </tr>\n",
       "    <tr>\n",
       "      <th>5</th>\n",
       "      <td>890121008</td>\n",
       "      <td>[890121008]</td>\n",
       "      <td>[]</td>\n",
       "      <td>1</td>\n",
       "    </tr>\n",
       "    <tr>\n",
       "      <th>6</th>\n",
       "      <td>871649000</td>\n",
       "      <td>[871649000]</td>\n",
       "      <td>[]</td>\n",
       "      <td>1</td>\n",
       "    </tr>\n",
       "    <tr>\n",
       "      <th>7</th>\n",
       "      <td>890120009</td>\n",
       "      <td>[890120009]</td>\n",
       "      <td>[]</td>\n",
       "      <td>1</td>\n",
       "    </tr>\n",
       "    <tr>\n",
       "      <th>8</th>\n",
       "      <td>472316006</td>\n",
       "      <td>[472318007, 472316006, 472316006]</td>\n",
       "      <td>[Hypertrophic mitochondrial cardiomyopathy (di...</td>\n",
       "      <td>3</td>\n",
       "    </tr>\n",
       "    <tr>\n",
       "      <th>9</th>\n",
       "      <td>45227007</td>\n",
       "      <td>[63183009, 45227007, 440074009, 45227007]</td>\n",
       "      <td>[Hypertrophic obstructive cardiomyopathy (diso...</td>\n",
       "      <td>4</td>\n",
       "    </tr>\n",
       "    <tr>\n",
       "      <th>10</th>\n",
       "      <td>195020003</td>\n",
       "      <td>[195020003, 195020003]</td>\n",
       "      <td>[Hypertrophic cardiomyopathy without obstructi...</td>\n",
       "      <td>2</td>\n",
       "    </tr>\n",
       "    <tr>\n",
       "      <th>11</th>\n",
       "      <td>83978005</td>\n",
       "      <td>[83978005, 83978005]</td>\n",
       "      <td>[Primary familial hypertrophic cardiomyopathy ...</td>\n",
       "      <td>2</td>\n",
       "    </tr>\n",
       "    <tr>\n",
       "      <th>12</th>\n",
       "      <td>63183009</td>\n",
       "      <td>[63183009, 63183009]</td>\n",
       "      <td>[Primary idiopathic hypertrophic cardiomyopath...</td>\n",
       "      <td>2</td>\n",
       "    </tr>\n",
       "    <tr>\n",
       "      <th>13</th>\n",
       "      <td>1204194004</td>\n",
       "      <td>[1204194004]</td>\n",
       "      <td>[]</td>\n",
       "      <td>1</td>\n",
       "    </tr>\n",
       "    <tr>\n",
       "      <th>14</th>\n",
       "      <td>428163005</td>\n",
       "      <td>[428163005, 428163005]</td>\n",
       "      <td>[Hypertensive left ventricular hypertrophy (di...</td>\n",
       "      <td>2</td>\n",
       "    </tr>\n",
       "    <tr>\n",
       "      <th>15</th>\n",
       "      <td>840303004</td>\n",
       "      <td>[840303004]</td>\n",
       "      <td>[]</td>\n",
       "      <td>1</td>\n",
       "    </tr>\n",
       "    <tr>\n",
       "      <th>16</th>\n",
       "      <td>840304005</td>\n",
       "      <td>[840304005]</td>\n",
       "      <td>[]</td>\n",
       "      <td>1</td>\n",
       "    </tr>\n",
       "    <tr>\n",
       "      <th>17</th>\n",
       "      <td>840305006</td>\n",
       "      <td>[840305006]</td>\n",
       "      <td>[]</td>\n",
       "      <td>1</td>\n",
       "    </tr>\n",
       "    <tr>\n",
       "      <th>18</th>\n",
       "      <td>880052005</td>\n",
       "      <td>[880052005]</td>\n",
       "      <td>[]</td>\n",
       "      <td>1</td>\n",
       "    </tr>\n",
       "    <tr>\n",
       "      <th>19</th>\n",
       "      <td>735686002</td>\n",
       "      <td>[735686002, 735686002]</td>\n",
       "      <td>[Sudden cardiac death due to cardiac arrhythmi...</td>\n",
       "      <td>2</td>\n",
       "    </tr>\n",
       "    <tr>\n",
       "      <th>20</th>\n",
       "      <td>95281009</td>\n",
       "      <td>[117361000119104, 95281009, 95281009, 735686002]</td>\n",
       "      <td>[Sudden cardiac death (disorder), Family histo...</td>\n",
       "      <td>4</td>\n",
       "    </tr>\n",
       "    <tr>\n",
       "      <th>21</th>\n",
       "      <td>26636000</td>\n",
       "      <td>[430283008, 207536007, 711157000, 51178009, 20...</td>\n",
       "      <td>[Sudden death (event), Instantaneous death (ev...</td>\n",
       "      <td>19</td>\n",
       "    </tr>\n",
       "  </tbody>\n",
       "</table>\n",
       "</div>"
      ],
      "text/plain": [
       "   filter_root_cui                                    retrieved_codes  \\\n",
       "0        700065003         [63183009, 700065003, 83978005, 700065003]   \n",
       "1        471885006                             [471885006, 471885006]   \n",
       "2        890122001                                        [890122001]   \n",
       "3        890119003                                        [890119003]   \n",
       "4        871638006                                        [871638006]   \n",
       "5        890121008                                        [890121008]   \n",
       "6        871649000                                        [871649000]   \n",
       "7        890120009                                        [890120009]   \n",
       "8        472316006                  [472318007, 472316006, 472316006]   \n",
       "9         45227007          [63183009, 45227007, 440074009, 45227007]   \n",
       "10       195020003                             [195020003, 195020003]   \n",
       "11        83978005                               [83978005, 83978005]   \n",
       "12        63183009                               [63183009, 63183009]   \n",
       "13      1204194004                                       [1204194004]   \n",
       "14       428163005                             [428163005, 428163005]   \n",
       "15       840303004                                        [840303004]   \n",
       "16       840304005                                        [840304005]   \n",
       "17       840305006                                        [840305006]   \n",
       "18       880052005                                        [880052005]   \n",
       "19       735686002                             [735686002, 735686002]   \n",
       "20        95281009   [117361000119104, 95281009, 95281009, 735686002]   \n",
       "21        26636000  [430283008, 207536007, 711157000, 51178009, 20...   \n",
       "\n",
       "                                      retrieved_names  retrieved_codes_count  \n",
       "0   [Primary hypertrophic cardiomyopathy (disorder...                      4  \n",
       "1   [Hypertrophic cardiomyopathy with genetic mark...                      2  \n",
       "2                                                  []                      1  \n",
       "3                                                  []                      1  \n",
       "4                                                  []                      1  \n",
       "5                                                  []                      1  \n",
       "6                                                  []                      1  \n",
       "7                                                  []                      1  \n",
       "8   [Hypertrophic mitochondrial cardiomyopathy (di...                      3  \n",
       "9   [Hypertrophic obstructive cardiomyopathy (diso...                      4  \n",
       "10  [Hypertrophic cardiomyopathy without obstructi...                      2  \n",
       "11  [Primary familial hypertrophic cardiomyopathy ...                      2  \n",
       "12  [Primary idiopathic hypertrophic cardiomyopath...                      2  \n",
       "13                                                 []                      1  \n",
       "14  [Hypertensive left ventricular hypertrophy (di...                      2  \n",
       "15                                                 []                      1  \n",
       "16                                                 []                      1  \n",
       "17                                                 []                      1  \n",
       "18                                                 []                      1  \n",
       "19  [Sudden cardiac death due to cardiac arrhythmi...                      2  \n",
       "20  [Sudden cardiac death (disorder), Family histo...                      4  \n",
       "21  [Sudden death (event), Instantaneous death (ev...                     19  "
      ]
     },
     "execution_count": 14,
     "metadata": {},
     "output_type": "execute_result"
    }
   ],
   "source": [
    "\n",
    "\n",
    "def create_dataframe_snomed(input_codes):\n",
    "    # Assuming snomed_relations_obj and other necessary objects are defined\n",
    "\n",
    "    # Create an empty DataFrame\n",
    "    df = pd.DataFrame(columns=['filter_root_cui', 'retrieved_codes', 'retrieved_names'])\n",
    "\n",
    "    for i in range(len(input_codes)):\n",
    "        filter_root_cui = input_codes[i]\n",
    "\n",
    "        # Assuming snomed_relations_obj is defined\n",
    "        retrieved_codes_snomed_tree, retrieved_names_snomed_tree = snomed_relations_obj.recursive_code_expansion(filter_root_cui, n_recursion=20, debug=False)\n",
    "\n",
    "        # Append the results to the DataFrame\n",
    "        df = df.append({'filter_root_cui': filter_root_cui,\n",
    "                        'retrieved_codes': retrieved_codes_snomed_tree,\n",
    "                        'retrieved_names': retrieved_names_snomed_tree},\n",
    "                       ignore_index=True)\n",
    "        \n",
    "        df['retrieved_codes_count'] = df['retrieved_codes'].apply(lambda x: len(x))\n",
    "\n",
    "        \n",
    "\n",
    "    return df\n",
    "\n",
    "\n",
    "result_df = create_dataframe_snomed(ronnie_code_str)\n",
    "result_df.to_csv('result_snomed.csv')\n",
    "result_df\n"
   ]
  },
  {
   "cell_type": "code",
   "execution_count": 15,
   "metadata": {},
   "outputs": [
    {
     "name": "stderr",
     "output_type": "stream",
     "text": [
      "/tmp/ipykernel_1186079/2489694093.py:14: FutureWarning: The frame.append method is deprecated and will be removed from pandas in a future version. Use pandas.concat instead.\n",
      "  df = df.append({'filter_root_cui': filter_root_cui,\n",
      "/tmp/ipykernel_1186079/2489694093.py:14: FutureWarning: The frame.append method is deprecated and will be removed from pandas in a future version. Use pandas.concat instead.\n",
      "  df = df.append({'filter_root_cui': filter_root_cui,\n",
      "/tmp/ipykernel_1186079/2489694093.py:14: FutureWarning: The frame.append method is deprecated and will be removed from pandas in a future version. Use pandas.concat instead.\n",
      "  df = df.append({'filter_root_cui': filter_root_cui,\n"
     ]
    },
    {
     "name": "stdout",
     "output_type": "stream",
     "text": [
      "'xxxlong'\n",
      "'890122001'\n",
      "'890119003'\n"
     ]
    },
    {
     "name": "stderr",
     "output_type": "stream",
     "text": [
      "/tmp/ipykernel_1186079/2489694093.py:14: FutureWarning: The frame.append method is deprecated and will be removed from pandas in a future version. Use pandas.concat instead.\n",
      "  df = df.append({'filter_root_cui': filter_root_cui,\n",
      "/tmp/ipykernel_1186079/2489694093.py:14: FutureWarning: The frame.append method is deprecated and will be removed from pandas in a future version. Use pandas.concat instead.\n",
      "  df = df.append({'filter_root_cui': filter_root_cui,\n",
      "/tmp/ipykernel_1186079/2489694093.py:14: FutureWarning: The frame.append method is deprecated and will be removed from pandas in a future version. Use pandas.concat instead.\n",
      "  df = df.append({'filter_root_cui': filter_root_cui,\n"
     ]
    },
    {
     "name": "stdout",
     "output_type": "stream",
     "text": [
      "'871638006'\n",
      "'890121008'\n",
      "'871649000'\n"
     ]
    },
    {
     "name": "stderr",
     "output_type": "stream",
     "text": [
      "/tmp/ipykernel_1186079/2489694093.py:14: FutureWarning: The frame.append method is deprecated and will be removed from pandas in a future version. Use pandas.concat instead.\n",
      "  df = df.append({'filter_root_cui': filter_root_cui,\n",
      "/tmp/ipykernel_1186079/2489694093.py:14: FutureWarning: The frame.append method is deprecated and will be removed from pandas in a future version. Use pandas.concat instead.\n",
      "  df = df.append({'filter_root_cui': filter_root_cui,\n",
      "/tmp/ipykernel_1186079/2489694093.py:14: FutureWarning: The frame.append method is deprecated and will be removed from pandas in a future version. Use pandas.concat instead.\n",
      "  df = df.append({'filter_root_cui': filter_root_cui,\n"
     ]
    },
    {
     "name": "stdout",
     "output_type": "stream",
     "text": [
      "'890120009'\n",
      "'xxxlong'\n"
     ]
    },
    {
     "name": "stderr",
     "output_type": "stream",
     "text": [
      "/tmp/ipykernel_1186079/2489694093.py:14: FutureWarning: The frame.append method is deprecated and will be removed from pandas in a future version. Use pandas.concat instead.\n",
      "  df = df.append({'filter_root_cui': filter_root_cui,\n",
      "/tmp/ipykernel_1186079/2489694093.py:14: FutureWarning: The frame.append method is deprecated and will be removed from pandas in a future version. Use pandas.concat instead.\n",
      "  df = df.append({'filter_root_cui': filter_root_cui,\n",
      "/tmp/ipykernel_1186079/2489694093.py:14: FutureWarning: The frame.append method is deprecated and will be removed from pandas in a future version. Use pandas.concat instead.\n",
      "  df = df.append({'filter_root_cui': filter_root_cui,\n",
      "/tmp/ipykernel_1186079/2489694093.py:14: FutureWarning: The frame.append method is deprecated and will be removed from pandas in a future version. Use pandas.concat instead.\n",
      "  df = df.append({'filter_root_cui': filter_root_cui,\n",
      "/tmp/ipykernel_1186079/2489694093.py:14: FutureWarning: The frame.append method is deprecated and will be removed from pandas in a future version. Use pandas.concat instead.\n",
      "  df = df.append({'filter_root_cui': filter_root_cui,\n"
     ]
    },
    {
     "name": "stdout",
     "output_type": "stream",
     "text": [
      "'xxxlong'\n",
      "'1204194004'\n"
     ]
    },
    {
     "name": "stderr",
     "output_type": "stream",
     "text": [
      "/tmp/ipykernel_1186079/2489694093.py:14: FutureWarning: The frame.append method is deprecated and will be removed from pandas in a future version. Use pandas.concat instead.\n",
      "  df = df.append({'filter_root_cui': filter_root_cui,\n",
      "/tmp/ipykernel_1186079/2489694093.py:14: FutureWarning: The frame.append method is deprecated and will be removed from pandas in a future version. Use pandas.concat instead.\n",
      "  df = df.append({'filter_root_cui': filter_root_cui,\n",
      "/tmp/ipykernel_1186079/2489694093.py:14: FutureWarning: The frame.append method is deprecated and will be removed from pandas in a future version. Use pandas.concat instead.\n",
      "  df = df.append({'filter_root_cui': filter_root_cui,\n"
     ]
    },
    {
     "name": "stdout",
     "output_type": "stream",
     "text": [
      "'840303004'\n",
      "'840304005'\n",
      "'840305006'\n"
     ]
    },
    {
     "name": "stderr",
     "output_type": "stream",
     "text": [
      "/tmp/ipykernel_1186079/2489694093.py:14: FutureWarning: The frame.append method is deprecated and will be removed from pandas in a future version. Use pandas.concat instead.\n",
      "  df = df.append({'filter_root_cui': filter_root_cui,\n",
      "/tmp/ipykernel_1186079/2489694093.py:14: FutureWarning: The frame.append method is deprecated and will be removed from pandas in a future version. Use pandas.concat instead.\n",
      "  df = df.append({'filter_root_cui': filter_root_cui,\n"
     ]
    },
    {
     "name": "stdout",
     "output_type": "stream",
     "text": [
      "'880052005'\n"
     ]
    },
    {
     "name": "stderr",
     "output_type": "stream",
     "text": [
      "/tmp/ipykernel_1186079/2489694093.py:14: FutureWarning: The frame.append method is deprecated and will be removed from pandas in a future version. Use pandas.concat instead.\n",
      "  df = df.append({'filter_root_cui': filter_root_cui,\n",
      "/tmp/ipykernel_1186079/2489694093.py:14: FutureWarning: The frame.append method is deprecated and will be removed from pandas in a future version. Use pandas.concat instead.\n",
      "  df = df.append({'filter_root_cui': filter_root_cui,\n",
      "/tmp/ipykernel_1186079/2489694093.py:14: FutureWarning: The frame.append method is deprecated and will be removed from pandas in a future version. Use pandas.concat instead.\n",
      "  df = df.append({'filter_root_cui': filter_root_cui,\n"
     ]
    },
    {
     "data": {
      "text/html": [
       "<div>\n",
       "<style scoped>\n",
       "    .dataframe tbody tr th:only-of-type {\n",
       "        vertical-align: middle;\n",
       "    }\n",
       "\n",
       "    .dataframe tbody tr th {\n",
       "        vertical-align: top;\n",
       "    }\n",
       "\n",
       "    .dataframe thead th {\n",
       "        text-align: right;\n",
       "    }\n",
       "</style>\n",
       "<table border=\"1\" class=\"dataframe\">\n",
       "  <thead>\n",
       "    <tr style=\"text-align: right;\">\n",
       "      <th></th>\n",
       "      <th>filter_root_cui</th>\n",
       "      <th>retrieved_codes</th>\n",
       "      <th>retrieved_names</th>\n",
       "      <th>retrieved_codes_count</th>\n",
       "    </tr>\n",
       "  </thead>\n",
       "  <tbody>\n",
       "    <tr>\n",
       "      <th>0</th>\n",
       "      <td>700065003</td>\n",
       "      <td>[700065003, 233873004, 85898001, 45227007, 894...</td>\n",
       "      <td>[Primary hypertrophic cardiomyopathy (disorder...</td>\n",
       "      <td>50</td>\n",
       "    </tr>\n",
       "    <tr>\n",
       "      <th>1</th>\n",
       "      <td>471885006</td>\n",
       "      <td>[]</td>\n",
       "      <td>[]</td>\n",
       "      <td>0</td>\n",
       "    </tr>\n",
       "    <tr>\n",
       "      <th>2</th>\n",
       "      <td>890122001</td>\n",
       "      <td>[]</td>\n",
       "      <td>[]</td>\n",
       "      <td>0</td>\n",
       "    </tr>\n",
       "    <tr>\n",
       "      <th>3</th>\n",
       "      <td>890119003</td>\n",
       "      <td>[]</td>\n",
       "      <td>[]</td>\n",
       "      <td>0</td>\n",
       "    </tr>\n",
       "    <tr>\n",
       "      <th>4</th>\n",
       "      <td>871638006</td>\n",
       "      <td>[]</td>\n",
       "      <td>[]</td>\n",
       "      <td>0</td>\n",
       "    </tr>\n",
       "    <tr>\n",
       "      <th>5</th>\n",
       "      <td>890121008</td>\n",
       "      <td>[]</td>\n",
       "      <td>[]</td>\n",
       "      <td>0</td>\n",
       "    </tr>\n",
       "    <tr>\n",
       "      <th>6</th>\n",
       "      <td>871649000</td>\n",
       "      <td>[]</td>\n",
       "      <td>[]</td>\n",
       "      <td>0</td>\n",
       "    </tr>\n",
       "    <tr>\n",
       "      <th>7</th>\n",
       "      <td>890120009</td>\n",
       "      <td>[]</td>\n",
       "      <td>[]</td>\n",
       "      <td>0</td>\n",
       "    </tr>\n",
       "    <tr>\n",
       "      <th>8</th>\n",
       "      <td>472316006</td>\n",
       "      <td>[]</td>\n",
       "      <td>[]</td>\n",
       "      <td>0</td>\n",
       "    </tr>\n",
       "    <tr>\n",
       "      <th>9</th>\n",
       "      <td>45227007</td>\n",
       "      <td>[45227007, 195020003, 85898001, 233873004, 894...</td>\n",
       "      <td>[Hypertrophic obstructive cardiomyopathy (diso...</td>\n",
       "      <td>50</td>\n",
       "    </tr>\n",
       "    <tr>\n",
       "      <th>10</th>\n",
       "      <td>195020003</td>\n",
       "      <td>[195020003, 45227007, 69609002, 89461002, 3990...</td>\n",
       "      <td>[Hypertrophic cardiomyopathy without obstructi...</td>\n",
       "      <td>50</td>\n",
       "    </tr>\n",
       "    <tr>\n",
       "      <th>11</th>\n",
       "      <td>83978005</td>\n",
       "      <td>[83978005, 233873004, 85898001, 89461002, 3572...</td>\n",
       "      <td>[Primary familial hypertrophic cardiomyopathy ...</td>\n",
       "      <td>50</td>\n",
       "    </tr>\n",
       "    <tr>\n",
       "      <th>12</th>\n",
       "      <td>63183009</td>\n",
       "      <td>[]</td>\n",
       "      <td>[]</td>\n",
       "      <td>0</td>\n",
       "    </tr>\n",
       "    <tr>\n",
       "      <th>13</th>\n",
       "      <td>1204194004</td>\n",
       "      <td>[]</td>\n",
       "      <td>[]</td>\n",
       "      <td>0</td>\n",
       "    </tr>\n",
       "    <tr>\n",
       "      <th>14</th>\n",
       "      <td>428163005</td>\n",
       "      <td>[428163005, 395704004, 275514001, 134401001, 3...</td>\n",
       "      <td>[Hypertensive left ventricular hypertrophy (di...</td>\n",
       "      <td>50</td>\n",
       "    </tr>\n",
       "    <tr>\n",
       "      <th>15</th>\n",
       "      <td>840303004</td>\n",
       "      <td>[]</td>\n",
       "      <td>[]</td>\n",
       "      <td>0</td>\n",
       "    </tr>\n",
       "    <tr>\n",
       "      <th>16</th>\n",
       "      <td>840304005</td>\n",
       "      <td>[]</td>\n",
       "      <td>[]</td>\n",
       "      <td>0</td>\n",
       "    </tr>\n",
       "    <tr>\n",
       "      <th>17</th>\n",
       "      <td>840305006</td>\n",
       "      <td>[]</td>\n",
       "      <td>[]</td>\n",
       "      <td>0</td>\n",
       "    </tr>\n",
       "    <tr>\n",
       "      <th>18</th>\n",
       "      <td>880052005</td>\n",
       "      <td>[]</td>\n",
       "      <td>[]</td>\n",
       "      <td>0</td>\n",
       "    </tr>\n",
       "    <tr>\n",
       "      <th>19</th>\n",
       "      <td>735686002</td>\n",
       "      <td>[735686002, 274644002, 26636000, 95281009, 430...</td>\n",
       "      <td>[Sudden cardiac death due to cardiac arrhythmi...</td>\n",
       "      <td>50</td>\n",
       "    </tr>\n",
       "    <tr>\n",
       "      <th>20</th>\n",
       "      <td>95281009</td>\n",
       "      <td>[95281009, 117361000119104, 26636000, 43028300...</td>\n",
       "      <td>[Sudden cardiac death (disorder), Family histo...</td>\n",
       "      <td>50</td>\n",
       "    </tr>\n",
       "    <tr>\n",
       "      <th>21</th>\n",
       "      <td>26636000</td>\n",
       "      <td>[26636000, 95281009, 430283008, 90049009, 8730...</td>\n",
       "      <td>[Sudden death (event), Sudden cardiac death (d...</td>\n",
       "      <td>50</td>\n",
       "    </tr>\n",
       "  </tbody>\n",
       "</table>\n",
       "</div>"
      ],
      "text/plain": [
       "   filter_root_cui                                    retrieved_codes  \\\n",
       "0        700065003  [700065003, 233873004, 85898001, 45227007, 894...   \n",
       "1        471885006                                                 []   \n",
       "2        890122001                                                 []   \n",
       "3        890119003                                                 []   \n",
       "4        871638006                                                 []   \n",
       "5        890121008                                                 []   \n",
       "6        871649000                                                 []   \n",
       "7        890120009                                                 []   \n",
       "8        472316006                                                 []   \n",
       "9         45227007  [45227007, 195020003, 85898001, 233873004, 894...   \n",
       "10       195020003  [195020003, 45227007, 69609002, 89461002, 3990...   \n",
       "11        83978005  [83978005, 233873004, 85898001, 89461002, 3572...   \n",
       "12        63183009                                                 []   \n",
       "13      1204194004                                                 []   \n",
       "14       428163005  [428163005, 395704004, 275514001, 134401001, 3...   \n",
       "15       840303004                                                 []   \n",
       "16       840304005                                                 []   \n",
       "17       840305006                                                 []   \n",
       "18       880052005                                                 []   \n",
       "19       735686002  [735686002, 274644002, 26636000, 95281009, 430...   \n",
       "20        95281009  [95281009, 117361000119104, 26636000, 43028300...   \n",
       "21        26636000  [26636000, 95281009, 430283008, 90049009, 8730...   \n",
       "\n",
       "                                      retrieved_names  retrieved_codes_count  \n",
       "0   [Primary hypertrophic cardiomyopathy (disorder...                     50  \n",
       "1                                                  []                      0  \n",
       "2                                                  []                      0  \n",
       "3                                                  []                      0  \n",
       "4                                                  []                      0  \n",
       "5                                                  []                      0  \n",
       "6                                                  []                      0  \n",
       "7                                                  []                      0  \n",
       "8                                                  []                      0  \n",
       "9   [Hypertrophic obstructive cardiomyopathy (diso...                     50  \n",
       "10  [Hypertrophic cardiomyopathy without obstructi...                     50  \n",
       "11  [Primary familial hypertrophic cardiomyopathy ...                     50  \n",
       "12                                                 []                      0  \n",
       "13                                                 []                      0  \n",
       "14  [Hypertensive left ventricular hypertrophy (di...                     50  \n",
       "15                                                 []                      0  \n",
       "16                                                 []                      0  \n",
       "17                                                 []                      0  \n",
       "18                                                 []                      0  \n",
       "19  [Sudden cardiac death due to cardiac arrhythmi...                     50  \n",
       "20  [Sudden cardiac death (disorder), Family histo...                     50  \n",
       "21  [Sudden death (event), Sudden cardiac death (d...                     50  "
      ]
     },
     "execution_count": 15,
     "metadata": {},
     "output_type": "execute_result"
    }
   ],
   "source": [
    "\n",
    "\n",
    "def create_dataframe_medcat(input_codes):\n",
    "    # Assuming snomed_relations_obj and other necessary objects are defined\n",
    "\n",
    "    # Create an empty DataFrame\n",
    "    df = pd.DataFrame(columns=['filter_root_cui', 'retrieved_codes', 'retrieved_names'])\n",
    "\n",
    "    for i in range(len(input_codes)):\n",
    "        filter_root_cui = input_codes[i]\n",
    "\n",
    "        # Assuming snomed_relations_obj is defined\n",
    "        retrieved_codes_medcat_cdb, retrieved_names_medcat_cdb  = snomed_relations_obj.get_medcat_cdb_most_similar(filter_root_cui, context_type = 'xxxlong', type_id_filter=[], topn=50)\n",
    "\n",
    "        # Append the results to the DataFrame\n",
    "        df = df.append({'filter_root_cui': filter_root_cui,\n",
    "                        'retrieved_codes': retrieved_codes_medcat_cdb,\n",
    "                        'retrieved_names': retrieved_names_medcat_cdb},\n",
    "                       ignore_index=True)\n",
    "        \n",
    "        df['retrieved_codes_count'] = df['retrieved_codes'].apply(lambda x: len(x))\n",
    "\n",
    "        \n",
    "\n",
    "    return df\n",
    "\n",
    "\n",
    "result_df = create_dataframe_medcat(ronnie_code_str)\n",
    "result_df.to_csv('result_medcat_50.csv')\n",
    "result_df\n"
   ]
  },
  {
   "cell_type": "code",
   "execution_count": null,
   "metadata": {},
   "outputs": [],
   "source": []
  },
  {
   "cell_type": "markdown",
   "metadata": {},
   "source": [
    "## An additional method \n",
    "\n"
   ]
  },
  {
   "cell_type": "markdown",
   "metadata": {},
   "source": [
    "In this method we will calculate an embedding for snomed terms with their name using a large language model (Gatortron OG) trained on clinical text. We will then calculate an embedding for our term of choice. /n\n",
    "With these embedding vectors we can measure their cosine similarty and return a list of similar embeddings. "
   ]
  },
  {
   "cell_type": "code",
   "execution_count": 16,
   "metadata": {},
   "outputs": [
    {
     "name": "stdout",
     "output_type": "stream",
     "text": [
      "7311327\n"
     ]
    }
   ],
   "source": [
    "import pickle\n",
    "\n",
    "\n",
    "\n",
    "# Load the dictionary back from the file\n",
    "with open('/home/cogstack/samora/_data/gloabl_files/gatortron/precomputed_sname_gatortron_base_embedding_dict.pkl', 'rb') as file:\n",
    "    loaded_dict = pickle.load(file)\n",
    "\n",
    "# Print the loaded dictionary\n",
    "print(len(loaded_dict.keys()))\n"
   ]
  },
  {
   "cell_type": "code",
   "execution_count": 17,
   "metadata": {},
   "outputs": [
    {
     "data": {
      "text/plain": [
       "['neoplasm~of~anterior~surface~of~epiglottis~diagnosis',\n",
       " 'neoplasm',\n",
       " 'neoplasm~of']"
      ]
     },
     "execution_count": 17,
     "metadata": {},
     "output_type": "execute_result"
    }
   ],
   "source": [
    "list(loaded_dict.keys())[0:3]"
   ]
  },
  {
   "cell_type": "code",
   "execution_count": 18,
   "metadata": {},
   "outputs": [
    {
     "data": {
      "text/plain": [
       "array([[ 0.13535264,  0.05197329, -0.02210324, ...,  0.01287067,\n",
       "        -0.5452818 , -0.14283289]], dtype=float32)"
      ]
     },
     "execution_count": 18,
     "metadata": {},
     "output_type": "execute_result"
    }
   ],
   "source": [
    "loaded_dict.get('hemochromatosis')"
   ]
  },
  {
   "cell_type": "code",
   "execution_count": 19,
   "metadata": {},
   "outputs": [
    {
     "data": {
      "text/markdown": [
       "\n",
       "\n",
       "This takes a long time, randomly sample keys as an example. Approx 1h for full list. \n",
       "\n"
      ],
      "text/plain": [
       "<IPython.core.display.Markdown object>"
      ]
     },
     "metadata": {},
     "output_type": "display_data"
    }
   ],
   "source": [
    "import random\n",
    "\n",
    "display(Markdown(\"\"\"\n",
    "\n",
    "This takes a long time, randomly sample keys as an example. Approx 1h for full list. \n",
    "\n",
    "\"\"\"))\n",
    "\n",
    "\n",
    "# Get a list of all keys in the dictionary\n",
    "all_keys = list(loaded_dict.keys())\n",
    "\n",
    "# Select 1000 random keys\n",
    "selected_keys = random.sample(all_keys, 100000)\n",
    "\n",
    "selected_keys = loaded_dict\n",
    "\n",
    "# Create a new dictionary with only the selected keys\n",
    "filtered_dict = {key: loaded_dict[key] for key in selected_keys}\n",
    "\n",
    "# Now, filtered_dict contains only 1000 randomly selected key-value pairs from loaded_dict\n",
    "#print(filtered_dict)\n"
   ]
  },
  {
   "cell_type": "code",
   "execution_count": 20,
   "metadata": {},
   "outputs": [
    {
     "name": "stderr",
     "output_type": "stream",
     "text": [
      "100%|██████████| 7311327/7311327 [49:25<00:00, 2465.26it/s]\n"
     ]
    },
    {
     "name": "stdout",
     "output_type": "stream",
     "text": [
      "Term: hemochromatosis, Similarity Score: 1.000000238418579\n",
      "Term: haemochromatosis, Similarity Score: 0.9774909615516663\n",
      "Term: emochromatosis, Similarity Score: 0.9753208756446838\n",
      "Term: hemochromatosis~due, Similarity Score: 0.9472475051879883\n",
      "Term: hemochromatosis~secondary, Similarity Score: 0.9382572174072266\n",
      "Term: latent~hemochromatosis, Similarity Score: 0.9345972537994385\n",
      "Term: hemachromatosis, Similarity Score: 0.9298010468482971\n",
      "Term: haemochromatosis~compound, Similarity Score: 0.9290552139282227\n",
      "Term: hemochromatosis~juvenile, Similarity Score: 0.9279600381851196\n",
      "Term: hemochromatosis~exogenous, Similarity Score: 0.9247486591339111\n",
      "Term: hemochromatosis~following, Similarity Score: 0.9222375154495239\n",
      "Term: hemochromatosis~neonatal, Similarity Score: 0.9211658835411072\n",
      "Term: hemosideroses, Similarity Score: 0.9200485944747925\n",
      "Term: secondary~hemochromatosis, Similarity Score: 0.9189373254776001\n",
      "Term: hemosiderosis, Similarity Score: 0.917299211025238\n",
      "Term: heterozygous~hemochromatosis, Similarity Score: 0.9164109230041504\n",
      "Term: haemochromatosis~heterozygosity, Similarity Score: 0.9158393144607544\n",
      "Term: hemochromatosis~carrier, Similarity Score: 0.9150941967964172\n",
      "Term: secondary~haemochromatosis, Similarity Score: 0.913079559803009\n",
      "Term: haemochromatosis~secondary, Similarity Score: 0.9118994474411011\n",
      "Term: galactassemia, Similarity Score: 0.9115722179412842\n",
      "Term: hemochromatosis~genetic, Similarity Score: 0.9114336967468262\n",
      "Term: haemochromatosis~due, Similarity Score: 0.911402702331543\n",
      "Term: hemochromatosis~type, Similarity Score: 0.911351203918457\n",
      "Term: hemochromatosis~gene, Similarity Score: 0.9103907942771912\n",
      "Term: polycythemia, Similarity Score: 0.9094119668006897\n",
      "Term: juvenile~hemochromatosis, Similarity Score: 0.9082490801811218\n",
      "Term: haemochromatosis~following, Similarity Score: 0.9068338871002197\n",
      "Term: hemochromatosis~autosomal, Similarity Score: 0.9051523208618164\n",
      "Term: haemochromatosis~genetic, Similarity Score: 0.9037619233131409\n",
      "Term: thalassemias, Similarity Score: 0.9027153253555298\n",
      "Term: homozygous~haemochromatosis, Similarity Score: 0.9026933312416077\n",
      "Term: haemochromatosis~heterozygous, Similarity Score: 0.9022631049156189\n",
      "Term: genetic~haemochromatosis, Similarity Score: 0.9010564088821411\n",
      "Term: haemochromatosis~genes, Similarity Score: 0.900993824005127\n",
      "Term: hemophilia, Similarity Score: 0.9009426236152649\n",
      "Term: neonatal~hemochromatosis, Similarity Score: 0.9006420373916626\n",
      "Term: primary~hemochromatosis, Similarity Score: 0.9003183841705322\n",
      "Term: idiopathic~hemochromatosis, Similarity Score: 0.8997355103492737\n",
      "Term: haemochromatosis~gene, Similarity Score: 0.8996609449386597\n",
      "Term: haemachromatosis, Similarity Score: 0.8996081948280334\n",
      "Term: thalassemia~traits, Similarity Score: 0.8980604410171509\n",
      "Term: haemochromatosis~type, Similarity Score: 0.8979388475418091\n",
      "Term: polyfibromatosis, Similarity Score: 0.8974482417106628\n",
      "Term: a~thalassemia, Similarity Score: 0.8971353769302368\n",
      "Term: thalassemia, Similarity Score: 0.8962357640266418\n",
      "Term: neonatal~haemochromatosis, Similarity Score: 0.895940363407135\n",
      "Term: porphyria, Similarity Score: 0.8954100608825684\n",
      "Term: haemochromatosis~test, Similarity Score: 0.8950440883636475\n",
      "Term: familial~hemochromatosis, Similarity Score: 0.894375205039978\n"
     ]
    }
   ],
   "source": [
    "import numpy as np\n",
    "from sklearn.metrics.pairwise import cosine_similarity\n",
    "from tqdm import tqdm\n",
    "\n",
    "def find_most_similar(target_vector, term_vectors, n=5):\n",
    "    \"\"\"\n",
    "    Find the n most similar vectors to the target_vector from the given term_vectors.\n",
    "\n",
    "    Parameters:\n",
    "    - target_vector: The vector for which similarity is to be calculated.\n",
    "    - term_vectors: A dictionary of term vectors.\n",
    "    - n: The number of most similar vectors to retrieve (default is 5).\n",
    "\n",
    "    Returns:\n",
    "    - A list of tuples, each containing (term, similarity_score), sorted by similarity_score in descending order.\n",
    "    \"\"\"\n",
    "    similarities = {}\n",
    "    \n",
    "    # Reshape target_vector to 2D array\n",
    "    target_vector = target_vector.reshape(1, -1)\n",
    "    \n",
    "    for term, vector in tqdm(term_vectors.items()):\n",
    "        # Reshape vector to 2D array\n",
    "        vector = vector.reshape(1, -1)\n",
    "        \n",
    "        # Calculate cosine similarity\n",
    "        similarity_score = cosine_similarity(target_vector, vector)[0, 0]\n",
    "        similarities[term] = similarity_score\n",
    "    \n",
    "    # Sort terms by similarity in descending order\n",
    "    sorted_terms = sorted(similarities.items(), key=lambda x: x[1], reverse=True)\n",
    "    \n",
    "    # Return the top n most similar vectors with their terms\n",
    "    top_n_similarities = sorted_terms[:n]\n",
    "    \n",
    "    return top_n_similarities\n",
    "\n",
    "# Example usage:\n",
    "# Assuming loaded_dict is a dictionary of term vectors\n",
    "# loaded_dict = {'term1': np.array([[0.1, 0.2, 0.3]]), 'term2': np.array([[0.4, 0.5, 0.6]])}\n",
    "\n",
    "target_vector = loaded_dict.get('hemochromatosis')\n",
    "result = find_most_similar(target_vector, filtered_dict, n=50)\n",
    "\n",
    "# Print the result\n",
    "for term, similarity_score in result:\n",
    "    print(f'Term: {term}, Similarity Score: {similarity_score}')\n"
   ]
  }
 ],
 "metadata": {
  "kernelspec": {
   "display_name": "pat2vec_env",
   "language": "python",
   "name": "pat2vec_env"
  },
  "language_info": {
   "codemirror_mode": {
    "name": "ipython",
    "version": 3
   },
   "file_extension": ".py",
   "mimetype": "text/x-python",
   "name": "python",
   "nbconvert_exporter": "python",
   "pygments_lexer": "ipython3",
   "version": "3.9.18"
  }
 },
 "nbformat": 4,
 "nbformat_minor": 2
}
