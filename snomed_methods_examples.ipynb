{
 "cells": [
  {
   "cell_type": "code",
   "execution_count": 1,
   "metadata": {},
   "outputs": [],
   "source": [
    "from IPython.display import display, Markdown"
   ]
  },
  {
   "cell_type": "markdown",
   "metadata": {},
   "source": [
    "### SNOMED methods example"
   ]
  },
  {
   "cell_type": "code",
   "execution_count": 2,
   "metadata": {},
   "outputs": [
    {
     "data": {
      "text/markdown": [
       "\n",
       "## Begin\n",
       "\n",
       "Ensure the methods are on path\n"
      ],
      "text/plain": [
       "<IPython.core.display.Markdown object>"
      ]
     },
     "metadata": {},
     "output_type": "display_data"
    }
   ],
   "source": [
    "display(Markdown(\"\"\"\n",
    "## Begin\n",
    "\n",
    "Ensure the methods are on path\n",
    "\"\"\"))\n",
    "\n",
    "import os, sys\n",
    "sys.path.insert(0,'/home/aliencat/samora/gloabl_files')\n",
    "sys.path.insert(0,'/data/AS/Samora/gloabl_files')\n",
    "sys.path.insert(0,'/home/jovyan/work/gloabl_files')\n",
    "sys.path.insert(0, '/home/cogstack/samora/_data/gloabl_files')"
   ]
  },
  {
   "cell_type": "code",
   "execution_count": 3,
   "metadata": {},
   "outputs": [
    {
     "data": {
      "text/markdown": [
       "\n",
       "\n",
       "Import module\n",
       "\n"
      ],
      "text/plain": [
       "<IPython.core.display.Markdown object>"
      ]
     },
     "metadata": {},
     "output_type": "display_data"
    }
   ],
   "source": [
    "from snomed_methods import snomed_methods_v1\n",
    "\n",
    "display(Markdown(\"\"\"\n",
    "\n",
    "Import module\n",
    "\n",
    "\"\"\"))"
   ]
  },
  {
   "cell_type": "markdown",
   "metadata": {},
   "source": [
    "Ensure the rf2 snomed files are in the folder specified in snomed_methods_v1.py\n",
    "\n",
    "Ensure medcat path is set if using medcat and your dev environment is set (defaults to dh-cap02)\n",
    "\n",
    "\n"
   ]
  },
  {
   "cell_type": "code",
   "execution_count": 4,
   "metadata": {},
   "outputs": [
    {
     "name": "stderr",
     "output_type": "stream",
     "text": [
      "/home/cogstack/samora/pat2vec_env/lib/python3.9/site-packages/medcat/cat.py:18: TqdmExperimentalWarning: Using `tqdm.autonotebook.tqdm` in notebook mode. Use `tqdm.tqdm` instead to force console mode (e.g. in jupyter console)\n",
      "  from tqdm.autonotebook import tqdm, trange\n",
      "/home/cogstack/samora/pat2vec_env/lib/python3.9/site-packages/spacy/util.py:910: UserWarning: [W095] Model 'en_core_web_md' (3.1.0) was trained with spaCy v3.1.0 and may not be 100% compatible with the current version (3.7.2). If you see errors or degraded performance, download a newer compatible model or retrain your custom model with the current spaCy version. For more details and available updates, run: python -m spacy validate\n",
      "  warnings.warn(warn_msg)\n"
     ]
    },
    {
     "data": {
      "text/markdown": [
       "\n",
       "\n",
       "Initialise the snomed methods object\n",
       "\n"
      ],
      "text/plain": [
       "<IPython.core.display.Markdown object>"
      ]
     },
     "metadata": {},
     "output_type": "display_data"
    }
   ],
   "source": [
    "snomed_relations_obj = snomed_methods_v1.snomed_relations(medcat=True)\n",
    "\n",
    "\n",
    "display(Markdown(\"\"\"\n",
    "\n",
    "Initialise the snomed methods object\n",
    "\n",
    "\"\"\"))"
   ]
  },
  {
   "cell_type": "code",
   "execution_count": 5,
   "metadata": {},
   "outputs": [
    {
     "data": {
      "text/markdown": [
       "\n",
       "\n",
       "Define your starting point SNOMED cui code.\n"
      ],
      "text/plain": [
       "<IPython.core.display.Markdown object>"
      ]
     },
     "metadata": {},
     "output_type": "display_data"
    },
    {
     "name": "stdout",
     "output_type": "stream",
     "text": [
      "399187006\n"
     ]
    }
   ],
   "source": [
    "display(Markdown(\"\"\"\n",
    "\n",
    "Define your starting point SNOMED cui code.\n",
    "\"\"\"))\n",
    "\n",
    "outcome_variable_cui_for_filter = '399187006'  # HFE\n",
    "\n",
    "print(outcome_variable_cui_for_filter)\n"
   ]
  },
  {
   "cell_type": "code",
   "execution_count": 6,
   "metadata": {},
   "outputs": [
    {
     "name": "stdout",
     "output_type": "stream",
     "text": [
      "399187006\n"
     ]
    }
   ],
   "source": [
    "filter_root_cui = outcome_variable_cui_for_filter\n",
    "print(filter_root_cui)"
   ]
  },
  {
   "cell_type": "markdown",
   "metadata": {},
   "source": [
    "#### Spreading from starting SNOMED code we have found more related codes in the SNOMED tree:"
   ]
  },
  {
   "cell_type": "code",
   "execution_count": 7,
   "metadata": {},
   "outputs": [
    {
     "name": "stdout",
     "output_type": "stream",
     "text": [
      "Retrieving 399187006 with recursion 10\n"
     ]
    },
    {
     "name": "stderr",
     "output_type": "stream",
     "text": [
      "100%|██████████| 10/10 [00:00<00:00, 11.69it/s]\n"
     ]
    },
    {
     "data": {
      "text/markdown": [
       "\n",
       "\n",
       "n_recursion is the number of cycles of searching for a codes parents and children, then appending them to a set and searching for each of these codes parent/children.\n",
       "Higher recursion, more exploration, more codes, higher odds of unrelated concepts being returned.\n",
       "\n"
      ],
      "text/plain": [
       "<IPython.core.display.Markdown object>"
      ]
     },
     "metadata": {},
     "output_type": "display_data"
    }
   ],
   "source": [
    "retrieved_codes_snomed_tree, retrieved_names_snomed_tree = snomed_relations_obj.recursive_code_expansion(filter_root_cui, n_recursion = 10, debug=False)\n",
    "\n",
    "display(Markdown(\"\"\"\n",
    "\n",
    "n_recursion is the number of cycles of searching for a codes parents and children, then appending them to a set and searching for each of these codes parent/children.\n",
    "Higher recursion, more exploration, more codes, higher odds of unrelated concepts being returned.\n",
    "\n",
    "\"\"\"))"
   ]
  },
  {
   "cell_type": "code",
   "execution_count": 8,
   "metadata": {},
   "outputs": [
    {
     "data": {
      "text/plain": [
       "([66576001, 6160004, 401119001, 143101000119101, 399187006], 21, 20)"
      ]
     },
     "execution_count": 8,
     "metadata": {},
     "output_type": "execute_result"
    }
   ],
   "source": [
    "retrieved_codes_snomed_tree[0:5], len(retrieved_codes_snomed_tree), len(retrieved_names_snomed_tree)"
   ]
  },
  {
   "cell_type": "code",
   "execution_count": 9,
   "metadata": {},
   "outputs": [
    {
     "data": {
      "text/markdown": [
       "\n",
       "\n",
       "Lets examine some of the identified codes names. \n"
      ],
      "text/plain": [
       "<IPython.core.display.Markdown object>"
      ]
     },
     "metadata": {},
     "output_type": "display_data"
    }
   ],
   "source": [
    "retrieved_names_snomed_tree[0:3]\n",
    "\n",
    "display(Markdown(\"\"\"\n",
    "\n",
    "Lets examine some of the identified codes names. \n",
    "\"\"\"))"
   ]
  },
  {
   "cell_type": "code",
   "execution_count": 10,
   "metadata": {},
   "outputs": [
    {
     "data": {
      "text/plain": [
       "[66576001, 6160004, 401119001]"
      ]
     },
     "execution_count": 10,
     "metadata": {},
     "output_type": "execute_result"
    }
   ],
   "source": [
    "retrieved_codes_snomed_tree[0:3]"
   ]
  },
  {
   "cell_type": "markdown",
   "metadata": {},
   "source": [
    "#### Lets try an additional method to find related codes.\n",
    "\n",
    "Here we will attempt to get related codes from medcats' concept databases context similarity. In other words, what concepts occurred in a similar context in the training data for our CDB. **This method may not work if the concept did not receive training in the inital base model. This is because the concept does not have a context vector(s)."
   ]
  },
  {
   "cell_type": "code",
   "execution_count": 11,
   "metadata": {},
   "outputs": [],
   "source": [
    "retrieved_codes_medcat_cdb, retrieved_names_medcat_cdb  = snomed_relations_obj.get_medcat_cdb_most_similar(filter_root_cui, context_type = 'xxxlong', type_id_filter=[], topn=50)"
   ]
  },
  {
   "cell_type": "code",
   "execution_count": 12,
   "metadata": {},
   "outputs": [
    {
     "data": {
      "text/plain": [
       "['Hemochromatosis (disorder)',\n",
       " 'Hereditary hemochromatosis (disorder)',\n",
       " 'Juvenile hemochromatosis (disorder)',\n",
       " 'Hereditary spherocytosis (disorder)',\n",
       " 'Spherocytosis (finding)']"
      ]
     },
     "execution_count": 12,
     "metadata": {},
     "output_type": "execute_result"
    }
   ],
   "source": [
    "retrieved_names_medcat_cdb[0:5]"
   ]
  },
  {
   "cell_type": "markdown",
   "metadata": {},
   "source": [
    "## An additional method \n",
    "\n"
   ]
  },
  {
   "cell_type": "markdown",
   "metadata": {},
   "source": [
    "In this method we will calculate an embedding for snomed terms with their name using a large language model (Gatortron OG) trained on clinical text. We will then calculate an embedding for our term of choice. /n\n",
    "With these embedding vectors we can measure their cosine similarty and return a list of similar embeddings. "
   ]
  },
  {
   "cell_type": "code",
   "execution_count": 13,
   "metadata": {},
   "outputs": [
    {
     "name": "stdout",
     "output_type": "stream",
     "text": [
      "7311327\n"
     ]
    }
   ],
   "source": [
    "import pickle\n",
    "\n",
    "\n",
    "\n",
    "# Load the dictionary back from the file\n",
    "with open('/home/cogstack/samora/_data/gloabl_files/gatortron/precomputed_sname_gatortron_base_embedding_dict.pkl', 'rb') as file:\n",
    "    loaded_dict = pickle.load(file)\n",
    "\n",
    "# Print the loaded dictionary\n",
    "print(len(loaded_dict.keys()))\n"
   ]
  },
  {
   "cell_type": "code",
   "execution_count": 14,
   "metadata": {},
   "outputs": [
    {
     "data": {
      "text/plain": [
       "['neoplasm~of~anterior~surface~of~epiglottis~diagnosis',\n",
       " 'neoplasm',\n",
       " 'neoplasm~of']"
      ]
     },
     "execution_count": 14,
     "metadata": {},
     "output_type": "execute_result"
    }
   ],
   "source": [
    "list(loaded_dict.keys())[0:3]"
   ]
  },
  {
   "cell_type": "code",
   "execution_count": 15,
   "metadata": {},
   "outputs": [
    {
     "data": {
      "text/plain": [
       "array([[ 0.13535264,  0.05197329, -0.02210324, ...,  0.01287067,\n",
       "        -0.5452818 , -0.14283289]], dtype=float32)"
      ]
     },
     "execution_count": 15,
     "metadata": {},
     "output_type": "execute_result"
    }
   ],
   "source": [
    "loaded_dict.get('hemochromatosis')"
   ]
  },
  {
   "cell_type": "code",
   "execution_count": 23,
   "metadata": {},
   "outputs": [
    {
     "data": {
      "text/markdown": [
       "\n",
       "\n",
       "This takes a long time, randomly sample keys as an example. Approx 1h for full list. \n",
       "\n"
      ],
      "text/plain": [
       "<IPython.core.display.Markdown object>"
      ]
     },
     "metadata": {},
     "output_type": "display_data"
    }
   ],
   "source": [
    "import random\n",
    "\n",
    "display(Markdown(\"\"\"\n",
    "\n",
    "This takes a long time, randomly sample keys as an example. Approx 1h for full list. \n",
    "\n",
    "\"\"\"))\n",
    "\n",
    "\n",
    "# Get a list of all keys in the dictionary\n",
    "all_keys = list(loaded_dict.keys())\n",
    "\n",
    "# Select 1000 random keys\n",
    "selected_keys = random.sample(all_keys, 100000)\n",
    "\n",
    "# Create a new dictionary with only the selected keys\n",
    "filtered_dict = {key: loaded_dict[key] for key in selected_keys}\n",
    "\n",
    "# Now, filtered_dict contains only 1000 randomly selected key-value pairs from loaded_dict\n",
    "#print(filtered_dict)\n"
   ]
  },
  {
   "cell_type": "code",
   "execution_count": 24,
   "metadata": {},
   "outputs": [
    {
     "name": "stderr",
     "output_type": "stream",
     "text": [
      "100%|██████████| 100000/100000 [00:41<00:00, 2389.30it/s]\n"
     ]
    },
    {
     "name": "stdout",
     "output_type": "stream",
     "text": [
      "Term: erythrocytosis, Similarity Score: 0.8896450400352478\n",
      "Term: latent~haemochromatosis, Similarity Score: 0.8856067657470703\n",
      "Term: acquired~intolerance, Similarity Score: 0.8817482590675354\n",
      "Term: hhaemochromatosis, Similarity Score: 0.8780232667922974\n",
      "Term: polycythemia~due, Similarity Score: 0.8698443174362183\n",
      "Term: hematobia, Similarity Score: 0.867199182510376\n",
      "Term: failure, Similarity Score: 0.8663843870162964\n",
      "Term: septic, Similarity Score: 0.8660054206848145\n",
      "Term: hemoglobins, Similarity Score: 0.8609825372695923\n",
      "Term: pulmonators, Similarity Score: 0.8604337573051453\n",
      "Term: nicobar, Similarity Score: 0.8598579168319702\n",
      "Term: hyperammonemia, Similarity Score: 0.8569173812866211\n",
      "Term: secondary~cholangitis, Similarity Score: 0.8568036556243896\n",
      "Term: anemias, Similarity Score: 0.8564382791519165\n",
      "Term: hyperalphalipoproteinemia, Similarity Score: 0.8559831380844116\n",
      "Term: anthracycline, Similarity Score: 0.855939507484436\n",
      "Term: hypothalamic~hypothyroidism, Similarity Score: 0.8555409908294678\n",
      "Term: intentional~ferrous, Similarity Score: 0.8552935719490051\n",
      "Term: neuropathic, Similarity Score: 0.8541474342346191\n",
      "Term: compound~familial, Similarity Score: 0.8535548448562622\n",
      "Term: selenium~deficiency, Similarity Score: 0.8535364866256714\n",
      "Term: sarcoidosis~in, Similarity Score: 0.8525683879852295\n",
      "Term: psammomas, Similarity Score: 0.8521856069564819\n",
      "Term: gastric~hyperplasia, Similarity Score: 0.852019190788269\n",
      "Term: suprarenogenic, Similarity Score: 0.8516197204589844\n",
      "Term: hyperem, Similarity Score: 0.85160231590271\n",
      "Term: dyspraxia, Similarity Score: 0.8515329360961914\n",
      "Term: crookes, Similarity Score: 0.8508023023605347\n",
      "Term: smokers, Similarity Score: 0.8505918979644775\n",
      "Term: relatives, Similarity Score: 0.8505680561065674\n",
      "Term: macular, Similarity Score: 0.849670946598053\n",
      "Term: retinal, Similarity Score: 0.849449634552002\n",
      "Term: polyposis~skin, Similarity Score: 0.8494028449058533\n",
      "Term: polycystic, Similarity Score: 0.8492634892463684\n",
      "Term: hypomimia, Similarity Score: 0.8489542007446289\n",
      "Term: isolating, Similarity Score: 0.8485960960388184\n",
      "Term: antimicrobials, Similarity Score: 0.8480058908462524\n",
      "Term: desmond, Similarity Score: 0.8478785753250122\n",
      "Term: incidence, Similarity Score: 0.8467782735824585\n",
      "Term: iron~test, Similarity Score: 0.8466577529907227\n",
      "Term: homocysteine~levels, Similarity Score: 0.8466338515281677\n",
      "Term: intentional~heparin, Similarity Score: 0.846540629863739\n",
      "Term: complement, Similarity Score: 0.8457103967666626\n",
      "Term: lachesis, Similarity Score: 0.8451743125915527\n",
      "Term: lungless, Similarity Score: 0.8446570634841919\n",
      "Term: neonates, Similarity Score: 0.8444487452507019\n",
      "Term: interstit, Similarity Score: 0.8435574173927307\n",
      "Term: hyperuricuria, Similarity Score: 0.8430231809616089\n",
      "Term: renal~malformations, Similarity Score: 0.8429934978485107\n",
      "Term: hereditary~follicular, Similarity Score: 0.8426622152328491\n"
     ]
    }
   ],
   "source": [
    "import numpy as np\n",
    "from sklearn.metrics.pairwise import cosine_similarity\n",
    "from tqdm import tqdm\n",
    "\n",
    "def find_most_similar(target_vector, term_vectors, n=5):\n",
    "    \"\"\"\n",
    "    Find the n most similar vectors to the target_vector from the given term_vectors.\n",
    "\n",
    "    Parameters:\n",
    "    - target_vector: The vector for which similarity is to be calculated.\n",
    "    - term_vectors: A dictionary of term vectors.\n",
    "    - n: The number of most similar vectors to retrieve (default is 5).\n",
    "\n",
    "    Returns:\n",
    "    - A list of tuples, each containing (term, similarity_score), sorted by similarity_score in descending order.\n",
    "    \"\"\"\n",
    "    similarities = {}\n",
    "    \n",
    "    # Reshape target_vector to 2D array\n",
    "    target_vector = target_vector.reshape(1, -1)\n",
    "    \n",
    "    for term, vector in tqdm(term_vectors.items()):\n",
    "        # Reshape vector to 2D array\n",
    "        vector = vector.reshape(1, -1)\n",
    "        \n",
    "        # Calculate cosine similarity\n",
    "        similarity_score = cosine_similarity(target_vector, vector)[0, 0]\n",
    "        similarities[term] = similarity_score\n",
    "    \n",
    "    # Sort terms by similarity in descending order\n",
    "    sorted_terms = sorted(similarities.items(), key=lambda x: x[1], reverse=True)\n",
    "    \n",
    "    # Return the top n most similar vectors with their terms\n",
    "    top_n_similarities = sorted_terms[:n]\n",
    "    \n",
    "    return top_n_similarities\n",
    "\n",
    "# Example usage:\n",
    "# Assuming loaded_dict is a dictionary of term vectors\n",
    "# loaded_dict = {'term1': np.array([[0.1, 0.2, 0.3]]), 'term2': np.array([[0.4, 0.5, 0.6]])}\n",
    "\n",
    "target_vector = loaded_dict.get('hemochromatosis')\n",
    "result = find_most_similar(target_vector, filtered_dict, n=50)\n",
    "\n",
    "# Print the result\n",
    "for term, similarity_score in result:\n",
    "    print(f'Term: {term}, Similarity Score: {similarity_score}')\n"
   ]
  },
  {
   "cell_type": "code",
   "execution_count": null,
   "metadata": {},
   "outputs": [],
   "source": []
  }
 ],
 "metadata": {
  "kernelspec": {
   "display_name": "pat2vec_env",
   "language": "python",
   "name": "pat2vec_env"
  },
  "language_info": {
   "codemirror_mode": {
    "name": "ipython",
    "version": 3
   },
   "file_extension": ".py",
   "mimetype": "text/x-python",
   "name": "python",
   "nbconvert_exporter": "python",
   "pygments_lexer": "ipython3",
   "version": "3.9.18"
  }
 },
 "nbformat": 4,
 "nbformat_minor": 2
}
